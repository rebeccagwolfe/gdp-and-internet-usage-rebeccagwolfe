{
 "cells": [
  {
   "cell_type": "markdown",
   "id": "f7542e74",
   "metadata": {},
   "source": [
    "# A guided exploration of UN data (Gross Domestic Product and Internet Usage)"
   ]
  },
  {
   "cell_type": "markdown",
   "id": "dbd7ee2e",
   "metadata": {},
   "source": [
    "# Question 1:\n",
    "Create a data folder in your local project repository."
   ]
  },
  {
   "cell_type": "markdown",
   "id": "cfaacc6b",
   "metadata": {},
   "source": [
    "# Question 2:\n",
    "Download these two CSV files and place them in the data folder:\n",
    "\n",
    "a. Gross Domestic Product (GDP) per capita http://data.un.org/Data.aspx?d=WDI&f=Indicator_Code%3aNY.GDP.PCAP.PP.KD DO NOT APPLY ANY FILTERS\n",
    "\n",
    "rename the file to gdp_percapita.csv\n",
    "open it with a text editor (not excel) and take a look\n",
    "b. Percentage of Individuals using the Internet http://data.un.org/Data.aspx?d=ITU&f=ind1Code%3aI99H DO NOT APPLY ANY FILTERS\n",
    "\n",
    "rename the file to internet_use.csv\n",
    "open it with a text editor (not excel) and take a look"
   ]
  },
  {
   "cell_type": "markdown",
   "id": "6630c05a",
   "metadata": {},
   "source": [
    "# Question 3: \n",
    "Import the required packages with their customary aliases as follows:\n",
    "\n",
    "import pandas as pd\n",
    "import numpy as np\n",
    "import matplotlib.pyplot as plt\n",
    "import seaborn as sns"
   ]
  },
  {
   "cell_type": "code",
   "execution_count": 1,
   "id": "617e09d0",
   "metadata": {},
   "outputs": [],
   "source": [
    "import pandas as pd"
   ]
  },
  {
   "cell_type": "code",
   "execution_count": 2,
   "id": "f326998c",
   "metadata": {},
   "outputs": [],
   "source": [
    "import numpy as np"
   ]
  },
  {
   "cell_type": "code",
   "execution_count": 3,
   "id": "22b1eb14",
   "metadata": {},
   "outputs": [],
   "source": [
    "import matplotlib.pyplot as plt"
   ]
  },
  {
   "cell_type": "code",
   "execution_count": 4,
   "id": "36eb6667",
   "metadata": {},
   "outputs": [],
   "source": [
    "import seaborn as sns"
   ]
  },
  {
   "cell_type": "markdown",
   "id": "abb590eb",
   "metadata": {},
   "source": [
    "# Question 4:\n",
    "Use the %matplotlib inline magic command so that your plots show in the notebook without having to call plt.show() every time."
   ]
  },
  {
   "cell_type": "code",
   "execution_count": 5,
   "id": "f0a6ec2a",
   "metadata": {},
   "outputs": [],
   "source": [
    "%matplotlib inline"
   ]
  },
  {
   "cell_type": "markdown",
   "id": "9cfe0ad3",
   "metadata": {},
   "source": [
    "# Question 5: \n",
    "Using the pandas read_csv() method, read the GDP dataset into your notebook as a DataFrame called gdp_df. Take a look at the first 6 rows.\n"
   ]
  },
  {
   "cell_type": "code",
   "execution_count": 6,
   "id": "2e1e1832",
   "metadata": {},
   "outputs": [
    {
     "data": {
      "text/html": [
       "<div>\n",
       "<style scoped>\n",
       "    .dataframe tbody tr th:only-of-type {\n",
       "        vertical-align: middle;\n",
       "    }\n",
       "\n",
       "    .dataframe tbody tr th {\n",
       "        vertical-align: top;\n",
       "    }\n",
       "\n",
       "    .dataframe thead th {\n",
       "        text-align: right;\n",
       "    }\n",
       "</style>\n",
       "<table border=\"1\" class=\"dataframe\">\n",
       "  <thead>\n",
       "    <tr style=\"text-align: right;\">\n",
       "      <th></th>\n",
       "      <th>Country or Area</th>\n",
       "      <th>Year</th>\n",
       "      <th>Value</th>\n",
       "      <th>Value Footnotes</th>\n",
       "    </tr>\n",
       "  </thead>\n",
       "  <tbody>\n",
       "    <tr>\n",
       "      <th>0</th>\n",
       "      <td>Afghanistan</td>\n",
       "      <td>2019</td>\n",
       "      <td>2065.036398</td>\n",
       "      <td>NaN</td>\n",
       "    </tr>\n",
       "    <tr>\n",
       "      <th>1</th>\n",
       "      <td>Afghanistan</td>\n",
       "      <td>2018</td>\n",
       "      <td>2033.779002</td>\n",
       "      <td>NaN</td>\n",
       "    </tr>\n",
       "    <tr>\n",
       "      <th>2</th>\n",
       "      <td>Afghanistan</td>\n",
       "      <td>2017</td>\n",
       "      <td>2058.383832</td>\n",
       "      <td>NaN</td>\n",
       "    </tr>\n",
       "    <tr>\n",
       "      <th>3</th>\n",
       "      <td>Afghanistan</td>\n",
       "      <td>2016</td>\n",
       "      <td>2057.062164</td>\n",
       "      <td>NaN</td>\n",
       "    </tr>\n",
       "    <tr>\n",
       "      <th>4</th>\n",
       "      <td>Afghanistan</td>\n",
       "      <td>2015</td>\n",
       "      <td>2068.265904</td>\n",
       "      <td>NaN</td>\n",
       "    </tr>\n",
       "    <tr>\n",
       "      <th>5</th>\n",
       "      <td>Afghanistan</td>\n",
       "      <td>2014</td>\n",
       "      <td>2102.385234</td>\n",
       "      <td>NaN</td>\n",
       "    </tr>\n",
       "  </tbody>\n",
       "</table>\n",
       "</div>"
      ],
      "text/plain": [
       "  Country or Area  Year        Value  Value Footnotes\n",
       "0     Afghanistan  2019  2065.036398              NaN\n",
       "1     Afghanistan  2018  2033.779002              NaN\n",
       "2     Afghanistan  2017  2058.383832              NaN\n",
       "3     Afghanistan  2016  2057.062164              NaN\n",
       "4     Afghanistan  2015  2068.265904              NaN\n",
       "5     Afghanistan  2014  2102.385234              NaN"
      ]
     },
     "execution_count": 6,
     "metadata": {},
     "output_type": "execute_result"
    }
   ],
   "source": [
    "gdp_df = pd.read_csv(\"../Data/gdp_percapita.csv\", nrows=6868)\n",
    "gdp_df.head(6)"
   ]
  },
  {
   "cell_type": "markdown",
   "id": "54735609",
   "metadata": {},
   "source": [
    "# Question 6: \n",
    "Repeat for the internet use dataset. Call this DataFrame internet_df. Take a look at the first six rows."
   ]
  },
  {
   "cell_type": "code",
   "execution_count": 7,
   "id": "7ba0e0cc",
   "metadata": {},
   "outputs": [
    {
     "data": {
      "text/html": [
       "<div>\n",
       "<style scoped>\n",
       "    .dataframe tbody tr th:only-of-type {\n",
       "        vertical-align: middle;\n",
       "    }\n",
       "\n",
       "    .dataframe tbody tr th {\n",
       "        vertical-align: top;\n",
       "    }\n",
       "\n",
       "    .dataframe thead th {\n",
       "        text-align: right;\n",
       "    }\n",
       "</style>\n",
       "<table border=\"1\" class=\"dataframe\">\n",
       "  <thead>\n",
       "    <tr style=\"text-align: right;\">\n",
       "      <th></th>\n",
       "      <th>Country or Area</th>\n",
       "      <th>Year</th>\n",
       "      <th>Value</th>\n",
       "      <th>Value Footnotes</th>\n",
       "    </tr>\n",
       "  </thead>\n",
       "  <tbody>\n",
       "    <tr>\n",
       "      <th>0</th>\n",
       "      <td>Afghanistan</td>\n",
       "      <td>2019</td>\n",
       "      <td>2065.036398</td>\n",
       "      <td>NaN</td>\n",
       "    </tr>\n",
       "    <tr>\n",
       "      <th>1</th>\n",
       "      <td>Afghanistan</td>\n",
       "      <td>2018</td>\n",
       "      <td>2033.779002</td>\n",
       "      <td>NaN</td>\n",
       "    </tr>\n",
       "    <tr>\n",
       "      <th>2</th>\n",
       "      <td>Afghanistan</td>\n",
       "      <td>2017</td>\n",
       "      <td>2058.383832</td>\n",
       "      <td>NaN</td>\n",
       "    </tr>\n",
       "    <tr>\n",
       "      <th>3</th>\n",
       "      <td>Afghanistan</td>\n",
       "      <td>2016</td>\n",
       "      <td>2057.062164</td>\n",
       "      <td>NaN</td>\n",
       "    </tr>\n",
       "    <tr>\n",
       "      <th>4</th>\n",
       "      <td>Afghanistan</td>\n",
       "      <td>2015</td>\n",
       "      <td>2068.265904</td>\n",
       "      <td>NaN</td>\n",
       "    </tr>\n",
       "    <tr>\n",
       "      <th>5</th>\n",
       "      <td>Afghanistan</td>\n",
       "      <td>2014</td>\n",
       "      <td>2102.385234</td>\n",
       "      <td>NaN</td>\n",
       "    </tr>\n",
       "  </tbody>\n",
       "</table>\n",
       "</div>"
      ],
      "text/plain": [
       "  Country or Area  Year        Value  Value Footnotes\n",
       "0     Afghanistan  2019  2065.036398              NaN\n",
       "1     Afghanistan  2018  2033.779002              NaN\n",
       "2     Afghanistan  2017  2058.383832              NaN\n",
       "3     Afghanistan  2016  2057.062164              NaN\n",
       "4     Afghanistan  2015  2068.265904              NaN\n",
       "5     Afghanistan  2014  2102.385234              NaN"
      ]
     },
     "execution_count": 7,
     "metadata": {},
     "output_type": "execute_result"
    }
   ],
   "source": [
    "internet_df = pd.read_csv(\"../Data/internet_use.csv\", nrows=4495)\n",
    "gdp_df.head(6)"
   ]
  },
  {
   "cell_type": "markdown",
   "id": "87566ed0",
   "metadata": {},
   "source": [
    "# Question 7: \n",
    "Look at the shape of each DataFrame - how many rows? How many columns? gdp_df has 6868 rows and 4 columns and internet_df has 4495 rows and 6 columns"
   ]
  },
  {
   "cell_type": "code",
   "execution_count": 8,
   "id": "e36e7cef",
   "metadata": {},
   "outputs": [
    {
     "name": "stdout",
     "output_type": "stream",
     "text": [
      "(6868, 4)\n"
     ]
    }
   ],
   "source": [
    "print(gdp_df.shape)\n",
    "\n",
    "#can also use info: print(gdp_df.info)"
   ]
  },
  {
   "cell_type": "code",
   "execution_count": 9,
   "id": "33d04158",
   "metadata": {},
   "outputs": [
    {
     "name": "stdout",
     "output_type": "stream",
     "text": [
      "(4495, 6)\n"
     ]
    }
   ],
   "source": [
    "print(internet_df.shape)"
   ]
  },
  {
   "cell_type": "markdown",
   "id": "e987f144",
   "metadata": {},
   "source": [
    "# Question 8: \n",
    "Take a look at the datatypes for the columns in each DataFrame."
   ]
  },
  {
   "cell_type": "code",
   "execution_count": 10,
   "id": "f2bcac4d",
   "metadata": {},
   "outputs": [
    {
     "name": "stdout",
     "output_type": "stream",
     "text": [
      "Country or Area     object\n",
      "Year                 int64\n",
      "Value              float64\n",
      "Value Footnotes    float64\n",
      "dtype: object\n"
     ]
    }
   ],
   "source": [
    "print(gdp_df.dtypes)"
   ]
  },
  {
   "cell_type": "code",
   "execution_count": 11,
   "id": "065d87da",
   "metadata": {},
   "outputs": [
    {
     "name": "stdout",
     "output_type": "stream",
     "text": [
      "Country or Area     object\n",
      "Year                 int64\n",
      "Value              float64\n",
      "Value Footnotes    float64\n",
      "Unnamed: 4         float64\n",
      "Unnamed: 5         float64\n",
      "dtype: object\n"
     ]
    }
   ],
   "source": [
    "print(internet_df.dtypes)"
   ]
  },
  {
   "cell_type": "markdown",
   "id": "4de4bbf8",
   "metadata": {},
   "source": [
    "# Question 9: \n",
    "Take a look at the last 10 rows of each DataFrame in turn."
   ]
  },
  {
   "cell_type": "code",
   "execution_count": 12,
   "id": "f9a37b7e",
   "metadata": {},
   "outputs": [
    {
     "data": {
      "text/html": [
       "<div>\n",
       "<style scoped>\n",
       "    .dataframe tbody tr th:only-of-type {\n",
       "        vertical-align: middle;\n",
       "    }\n",
       "\n",
       "    .dataframe tbody tr th {\n",
       "        vertical-align: top;\n",
       "    }\n",
       "\n",
       "    .dataframe thead th {\n",
       "        text-align: right;\n",
       "    }\n",
       "</style>\n",
       "<table border=\"1\" class=\"dataframe\">\n",
       "  <thead>\n",
       "    <tr style=\"text-align: right;\">\n",
       "      <th></th>\n",
       "      <th>Country or Area</th>\n",
       "      <th>Year</th>\n",
       "      <th>Value</th>\n",
       "      <th>Value Footnotes</th>\n",
       "    </tr>\n",
       "  </thead>\n",
       "  <tbody>\n",
       "    <tr>\n",
       "      <th>6858</th>\n",
       "      <td>Zimbabwe</td>\n",
       "      <td>1999</td>\n",
       "      <td>3600.849291</td>\n",
       "      <td>NaN</td>\n",
       "    </tr>\n",
       "    <tr>\n",
       "      <th>6859</th>\n",
       "      <td>Zimbabwe</td>\n",
       "      <td>1998</td>\n",
       "      <td>3653.920016</td>\n",
       "      <td>NaN</td>\n",
       "    </tr>\n",
       "    <tr>\n",
       "      <th>6860</th>\n",
       "      <td>Zimbabwe</td>\n",
       "      <td>1997</td>\n",
       "      <td>3580.048793</td>\n",
       "      <td>NaN</td>\n",
       "    </tr>\n",
       "    <tr>\n",
       "      <th>6861</th>\n",
       "      <td>Zimbabwe</td>\n",
       "      <td>1996</td>\n",
       "      <td>3520.430146</td>\n",
       "      <td>NaN</td>\n",
       "    </tr>\n",
       "    <tr>\n",
       "      <th>6862</th>\n",
       "      <td>Zimbabwe</td>\n",
       "      <td>1995</td>\n",
       "      <td>3226.413930</td>\n",
       "      <td>NaN</td>\n",
       "    </tr>\n",
       "    <tr>\n",
       "      <th>6863</th>\n",
       "      <td>Zimbabwe</td>\n",
       "      <td>1994</td>\n",
       "      <td>3263.934978</td>\n",
       "      <td>NaN</td>\n",
       "    </tr>\n",
       "    <tr>\n",
       "      <th>6864</th>\n",
       "      <td>Zimbabwe</td>\n",
       "      <td>1993</td>\n",
       "      <td>3033.504852</td>\n",
       "      <td>NaN</td>\n",
       "    </tr>\n",
       "    <tr>\n",
       "      <th>6865</th>\n",
       "      <td>Zimbabwe</td>\n",
       "      <td>1992</td>\n",
       "      <td>3054.889178</td>\n",
       "      <td>NaN</td>\n",
       "    </tr>\n",
       "    <tr>\n",
       "      <th>6866</th>\n",
       "      <td>Zimbabwe</td>\n",
       "      <td>1991</td>\n",
       "      <td>3426.598094</td>\n",
       "      <td>NaN</td>\n",
       "    </tr>\n",
       "    <tr>\n",
       "      <th>6867</th>\n",
       "      <td>Zimbabwe</td>\n",
       "      <td>1990</td>\n",
       "      <td>3324.348171</td>\n",
       "      <td>NaN</td>\n",
       "    </tr>\n",
       "  </tbody>\n",
       "</table>\n",
       "</div>"
      ],
      "text/plain": [
       "     Country or Area  Year        Value  Value Footnotes\n",
       "6858        Zimbabwe  1999  3600.849291              NaN\n",
       "6859        Zimbabwe  1998  3653.920016              NaN\n",
       "6860        Zimbabwe  1997  3580.048793              NaN\n",
       "6861        Zimbabwe  1996  3520.430146              NaN\n",
       "6862        Zimbabwe  1995  3226.413930              NaN\n",
       "6863        Zimbabwe  1994  3263.934978              NaN\n",
       "6864        Zimbabwe  1993  3033.504852              NaN\n",
       "6865        Zimbabwe  1992  3054.889178              NaN\n",
       "6866        Zimbabwe  1991  3426.598094              NaN\n",
       "6867        Zimbabwe  1990  3324.348171              NaN"
      ]
     },
     "execution_count": 12,
     "metadata": {},
     "output_type": "execute_result"
    }
   ],
   "source": [
    "gdp_df.tail(10)"
   ]
  },
  {
   "cell_type": "code",
   "execution_count": 13,
   "id": "6dd03c93",
   "metadata": {},
   "outputs": [
    {
     "data": {
      "text/html": [
       "<div>\n",
       "<style scoped>\n",
       "    .dataframe tbody tr th:only-of-type {\n",
       "        vertical-align: middle;\n",
       "    }\n",
       "\n",
       "    .dataframe tbody tr th {\n",
       "        vertical-align: top;\n",
       "    }\n",
       "\n",
       "    .dataframe thead th {\n",
       "        text-align: right;\n",
       "    }\n",
       "</style>\n",
       "<table border=\"1\" class=\"dataframe\">\n",
       "  <thead>\n",
       "    <tr style=\"text-align: right;\">\n",
       "      <th></th>\n",
       "      <th>Country or Area</th>\n",
       "      <th>Year</th>\n",
       "      <th>Value</th>\n",
       "      <th>Value Footnotes</th>\n",
       "      <th>Unnamed: 4</th>\n",
       "      <th>Unnamed: 5</th>\n",
       "    </tr>\n",
       "  </thead>\n",
       "  <tbody>\n",
       "    <tr>\n",
       "      <th>4485</th>\n",
       "      <td>Zimbabwe</td>\n",
       "      <td>2002</td>\n",
       "      <td>3.994356</td>\n",
       "      <td>NaN</td>\n",
       "      <td>NaN</td>\n",
       "      <td>NaN</td>\n",
       "    </tr>\n",
       "    <tr>\n",
       "      <th>4486</th>\n",
       "      <td>Zimbabwe</td>\n",
       "      <td>2001</td>\n",
       "      <td>0.799846</td>\n",
       "      <td>NaN</td>\n",
       "      <td>NaN</td>\n",
       "      <td>NaN</td>\n",
       "    </tr>\n",
       "    <tr>\n",
       "      <th>4487</th>\n",
       "      <td>Zimbabwe</td>\n",
       "      <td>2000</td>\n",
       "      <td>0.401434</td>\n",
       "      <td>NaN</td>\n",
       "      <td>NaN</td>\n",
       "      <td>NaN</td>\n",
       "    </tr>\n",
       "    <tr>\n",
       "      <th>4488</th>\n",
       "      <td>Zimbabwe</td>\n",
       "      <td>1999</td>\n",
       "      <td>0.161676</td>\n",
       "      <td>NaN</td>\n",
       "      <td>NaN</td>\n",
       "      <td>NaN</td>\n",
       "    </tr>\n",
       "    <tr>\n",
       "      <th>4489</th>\n",
       "      <td>Zimbabwe</td>\n",
       "      <td>1998</td>\n",
       "      <td>0.081648</td>\n",
       "      <td>NaN</td>\n",
       "      <td>NaN</td>\n",
       "      <td>NaN</td>\n",
       "    </tr>\n",
       "    <tr>\n",
       "      <th>4490</th>\n",
       "      <td>Zimbabwe</td>\n",
       "      <td>1997</td>\n",
       "      <td>0.033080</td>\n",
       "      <td>NaN</td>\n",
       "      <td>NaN</td>\n",
       "      <td>NaN</td>\n",
       "    </tr>\n",
       "    <tr>\n",
       "      <th>4491</th>\n",
       "      <td>Zimbabwe</td>\n",
       "      <td>1996</td>\n",
       "      <td>0.016790</td>\n",
       "      <td>NaN</td>\n",
       "      <td>NaN</td>\n",
       "      <td>NaN</td>\n",
       "    </tr>\n",
       "    <tr>\n",
       "      <th>4492</th>\n",
       "      <td>Zimbabwe</td>\n",
       "      <td>1995</td>\n",
       "      <td>0.007684</td>\n",
       "      <td>NaN</td>\n",
       "      <td>NaN</td>\n",
       "      <td>NaN</td>\n",
       "    </tr>\n",
       "    <tr>\n",
       "      <th>4493</th>\n",
       "      <td>Zimbabwe</td>\n",
       "      <td>1994</td>\n",
       "      <td>0.001739</td>\n",
       "      <td>NaN</td>\n",
       "      <td>NaN</td>\n",
       "      <td>NaN</td>\n",
       "    </tr>\n",
       "    <tr>\n",
       "      <th>4494</th>\n",
       "      <td>Zimbabwe</td>\n",
       "      <td>1990</td>\n",
       "      <td>0.000000</td>\n",
       "      <td>NaN</td>\n",
       "      <td>NaN</td>\n",
       "      <td>NaN</td>\n",
       "    </tr>\n",
       "  </tbody>\n",
       "</table>\n",
       "</div>"
      ],
      "text/plain": [
       "     Country or Area  Year     Value  Value Footnotes  Unnamed: 4  Unnamed: 5\n",
       "4485        Zimbabwe  2002  3.994356              NaN         NaN         NaN\n",
       "4486        Zimbabwe  2001  0.799846              NaN         NaN         NaN\n",
       "4487        Zimbabwe  2000  0.401434              NaN         NaN         NaN\n",
       "4488        Zimbabwe  1999  0.161676              NaN         NaN         NaN\n",
       "4489        Zimbabwe  1998  0.081648              NaN         NaN         NaN\n",
       "4490        Zimbabwe  1997  0.033080              NaN         NaN         NaN\n",
       "4491        Zimbabwe  1996  0.016790              NaN         NaN         NaN\n",
       "4492        Zimbabwe  1995  0.007684              NaN         NaN         NaN\n",
       "4493        Zimbabwe  1994  0.001739              NaN         NaN         NaN\n",
       "4494        Zimbabwe  1990  0.000000              NaN         NaN         NaN"
      ]
     },
     "execution_count": 13,
     "metadata": {},
     "output_type": "execute_result"
    }
   ],
   "source": [
    "internet_df.tail(10)"
   ]
  },
  {
   "cell_type": "markdown",
   "id": "82eb8e9e",
   "metadata": {},
   "source": [
    "# Question 10: \n",
    "Drop the value footnotes column from both DataFrames. Check that this worked as expected."
   ]
  },
  {
   "cell_type": "code",
   "execution_count": 14,
   "id": "cfd3cc11",
   "metadata": {},
   "outputs": [],
   "source": [
    "internet_df.drop(internet_df.columns[[3]], axis=1, inplace=True)"
   ]
  },
  {
   "cell_type": "code",
   "execution_count": 15,
   "id": "63443d0d",
   "metadata": {},
   "outputs": [
    {
     "name": "stdout",
     "output_type": "stream",
     "text": [
      "     Country or Area  Year     Value  Unnamed: 4  Unnamed: 5\n",
      "0        Afghanistan  2014  6.390000         NaN         NaN\n",
      "1        Afghanistan  2013  5.900000         NaN         NaN\n",
      "2        Afghanistan  2012  5.454545         NaN         NaN\n",
      "3        Afghanistan  2011  5.000000         NaN         NaN\n",
      "4        Afghanistan  2010  4.000000         NaN         NaN\n",
      "...              ...   ...       ...         ...         ...\n",
      "4490        Zimbabwe  1997  0.033080         NaN         NaN\n",
      "4491        Zimbabwe  1996  0.016790         NaN         NaN\n",
      "4492        Zimbabwe  1995  0.007684         NaN         NaN\n",
      "4493        Zimbabwe  1994  0.001739         NaN         NaN\n",
      "4494        Zimbabwe  1990  0.000000         NaN         NaN\n",
      "\n",
      "[4495 rows x 5 columns]\n"
     ]
    }
   ],
   "source": [
    "print(internet_df)"
   ]
  },
  {
   "cell_type": "code",
   "execution_count": 16,
   "id": "c5eeccc2",
   "metadata": {},
   "outputs": [
    {
     "data": {
      "text/html": [
       "<div>\n",
       "<style scoped>\n",
       "    .dataframe tbody tr th:only-of-type {\n",
       "        vertical-align: middle;\n",
       "    }\n",
       "\n",
       "    .dataframe tbody tr th {\n",
       "        vertical-align: top;\n",
       "    }\n",
       "\n",
       "    .dataframe thead th {\n",
       "        text-align: right;\n",
       "    }\n",
       "</style>\n",
       "<table border=\"1\" class=\"dataframe\">\n",
       "  <thead>\n",
       "    <tr style=\"text-align: right;\">\n",
       "      <th></th>\n",
       "      <th>Country or Area</th>\n",
       "      <th>Year</th>\n",
       "      <th>Value</th>\n",
       "      <th>Unnamed: 4</th>\n",
       "      <th>Unnamed: 5</th>\n",
       "    </tr>\n",
       "  </thead>\n",
       "  <tbody>\n",
       "    <tr>\n",
       "      <th>0</th>\n",
       "      <td>Afghanistan</td>\n",
       "      <td>2014</td>\n",
       "      <td>6.390000</td>\n",
       "      <td>NaN</td>\n",
       "      <td>NaN</td>\n",
       "    </tr>\n",
       "    <tr>\n",
       "      <th>1</th>\n",
       "      <td>Afghanistan</td>\n",
       "      <td>2013</td>\n",
       "      <td>5.900000</td>\n",
       "      <td>NaN</td>\n",
       "      <td>NaN</td>\n",
       "    </tr>\n",
       "    <tr>\n",
       "      <th>2</th>\n",
       "      <td>Afghanistan</td>\n",
       "      <td>2012</td>\n",
       "      <td>5.454545</td>\n",
       "      <td>NaN</td>\n",
       "      <td>NaN</td>\n",
       "    </tr>\n",
       "    <tr>\n",
       "      <th>3</th>\n",
       "      <td>Afghanistan</td>\n",
       "      <td>2011</td>\n",
       "      <td>5.000000</td>\n",
       "      <td>NaN</td>\n",
       "      <td>NaN</td>\n",
       "    </tr>\n",
       "    <tr>\n",
       "      <th>4</th>\n",
       "      <td>Afghanistan</td>\n",
       "      <td>2010</td>\n",
       "      <td>4.000000</td>\n",
       "      <td>NaN</td>\n",
       "      <td>NaN</td>\n",
       "    </tr>\n",
       "    <tr>\n",
       "      <th>...</th>\n",
       "      <td>...</td>\n",
       "      <td>...</td>\n",
       "      <td>...</td>\n",
       "      <td>...</td>\n",
       "      <td>...</td>\n",
       "    </tr>\n",
       "    <tr>\n",
       "      <th>4490</th>\n",
       "      <td>Zimbabwe</td>\n",
       "      <td>1997</td>\n",
       "      <td>0.033080</td>\n",
       "      <td>NaN</td>\n",
       "      <td>NaN</td>\n",
       "    </tr>\n",
       "    <tr>\n",
       "      <th>4491</th>\n",
       "      <td>Zimbabwe</td>\n",
       "      <td>1996</td>\n",
       "      <td>0.016790</td>\n",
       "      <td>NaN</td>\n",
       "      <td>NaN</td>\n",
       "    </tr>\n",
       "    <tr>\n",
       "      <th>4492</th>\n",
       "      <td>Zimbabwe</td>\n",
       "      <td>1995</td>\n",
       "      <td>0.007684</td>\n",
       "      <td>NaN</td>\n",
       "      <td>NaN</td>\n",
       "    </tr>\n",
       "    <tr>\n",
       "      <th>4493</th>\n",
       "      <td>Zimbabwe</td>\n",
       "      <td>1994</td>\n",
       "      <td>0.001739</td>\n",
       "      <td>NaN</td>\n",
       "      <td>NaN</td>\n",
       "    </tr>\n",
       "    <tr>\n",
       "      <th>4494</th>\n",
       "      <td>Zimbabwe</td>\n",
       "      <td>1990</td>\n",
       "      <td>0.000000</td>\n",
       "      <td>NaN</td>\n",
       "      <td>NaN</td>\n",
       "    </tr>\n",
       "  </tbody>\n",
       "</table>\n",
       "<p>4495 rows × 5 columns</p>\n",
       "</div>"
      ],
      "text/plain": [
       "     Country or Area  Year     Value  Unnamed: 4  Unnamed: 5\n",
       "0        Afghanistan  2014  6.390000         NaN         NaN\n",
       "1        Afghanistan  2013  5.900000         NaN         NaN\n",
       "2        Afghanistan  2012  5.454545         NaN         NaN\n",
       "3        Afghanistan  2011  5.000000         NaN         NaN\n",
       "4        Afghanistan  2010  4.000000         NaN         NaN\n",
       "...              ...   ...       ...         ...         ...\n",
       "4490        Zimbabwe  1997  0.033080         NaN         NaN\n",
       "4491        Zimbabwe  1996  0.016790         NaN         NaN\n",
       "4492        Zimbabwe  1995  0.007684         NaN         NaN\n",
       "4493        Zimbabwe  1994  0.001739         NaN         NaN\n",
       "4494        Zimbabwe  1990  0.000000         NaN         NaN\n",
       "\n",
       "[4495 rows x 5 columns]"
      ]
     },
     "execution_count": 16,
     "metadata": {},
     "output_type": "execute_result"
    }
   ],
   "source": [
    "internet_df"
   ]
  },
  {
   "cell_type": "code",
   "execution_count": 17,
   "id": "00f4ebb5",
   "metadata": {},
   "outputs": [],
   "source": [
    "internet_df.drop(internet_df.columns[[3,4]], axis=1, inplace=True)"
   ]
  },
  {
   "cell_type": "code",
   "execution_count": 18,
   "id": "b957391a",
   "metadata": {},
   "outputs": [
    {
     "name": "stdout",
     "output_type": "stream",
     "text": [
      "     Country or Area  Year     Value\n",
      "0        Afghanistan  2014  6.390000\n",
      "1        Afghanistan  2013  5.900000\n",
      "2        Afghanistan  2012  5.454545\n",
      "3        Afghanistan  2011  5.000000\n",
      "4        Afghanistan  2010  4.000000\n",
      "...              ...   ...       ...\n",
      "4490        Zimbabwe  1997  0.033080\n",
      "4491        Zimbabwe  1996  0.016790\n",
      "4492        Zimbabwe  1995  0.007684\n",
      "4493        Zimbabwe  1994  0.001739\n",
      "4494        Zimbabwe  1990  0.000000\n",
      "\n",
      "[4495 rows x 3 columns]\n"
     ]
    }
   ],
   "source": [
    "print(internet_df)"
   ]
  },
  {
   "cell_type": "code",
   "execution_count": 19,
   "id": "e616bd3b",
   "metadata": {},
   "outputs": [],
   "source": [
    "gdp_df.drop(gdp_df.columns[[3]], axis=1, inplace=True)"
   ]
  },
  {
   "cell_type": "markdown",
   "id": "2d48bf98",
   "metadata": {},
   "source": [
    "Note: Inplace = True is unecessary and not the best practice. Assigning a variable to the new dataframe with dropped column is necesary.\n",
    "\n",
    "For axis = 1, it refers to either row or column. 1 is default."
   ]
  },
  {
   "cell_type": "code",
   "execution_count": 20,
   "id": "a3162192",
   "metadata": {},
   "outputs": [
    {
     "name": "stdout",
     "output_type": "stream",
     "text": [
      "     Country or Area  Year        Value\n",
      "0        Afghanistan  2019  2065.036398\n",
      "1        Afghanistan  2018  2033.779002\n",
      "2        Afghanistan  2017  2058.383832\n",
      "3        Afghanistan  2016  2057.062164\n",
      "4        Afghanistan  2015  2068.265904\n",
      "...              ...   ...          ...\n",
      "6863        Zimbabwe  1994  3263.934978\n",
      "6864        Zimbabwe  1993  3033.504852\n",
      "6865        Zimbabwe  1992  3054.889178\n",
      "6866        Zimbabwe  1991  3426.598094\n",
      "6867        Zimbabwe  1990  3324.348171\n",
      "\n",
      "[6868 rows x 3 columns]\n"
     ]
    }
   ],
   "source": [
    "print(gdp_df)"
   ]
  },
  {
   "cell_type": "code",
   "execution_count": 21,
   "id": "9df48aab",
   "metadata": {},
   "outputs": [
    {
     "data": {
      "text/html": [
       "<div>\n",
       "<style scoped>\n",
       "    .dataframe tbody tr th:only-of-type {\n",
       "        vertical-align: middle;\n",
       "    }\n",
       "\n",
       "    .dataframe tbody tr th {\n",
       "        vertical-align: top;\n",
       "    }\n",
       "\n",
       "    .dataframe thead th {\n",
       "        text-align: right;\n",
       "    }\n",
       "</style>\n",
       "<table border=\"1\" class=\"dataframe\">\n",
       "  <thead>\n",
       "    <tr style=\"text-align: right;\">\n",
       "      <th></th>\n",
       "      <th>Country or Area</th>\n",
       "      <th>Year</th>\n",
       "      <th>Value</th>\n",
       "    </tr>\n",
       "  </thead>\n",
       "  <tbody>\n",
       "    <tr>\n",
       "      <th>0</th>\n",
       "      <td>Afghanistan</td>\n",
       "      <td>2019</td>\n",
       "      <td>2065.036398</td>\n",
       "    </tr>\n",
       "    <tr>\n",
       "      <th>1</th>\n",
       "      <td>Afghanistan</td>\n",
       "      <td>2018</td>\n",
       "      <td>2033.779002</td>\n",
       "    </tr>\n",
       "    <tr>\n",
       "      <th>2</th>\n",
       "      <td>Afghanistan</td>\n",
       "      <td>2017</td>\n",
       "      <td>2058.383832</td>\n",
       "    </tr>\n",
       "    <tr>\n",
       "      <th>3</th>\n",
       "      <td>Afghanistan</td>\n",
       "      <td>2016</td>\n",
       "      <td>2057.062164</td>\n",
       "    </tr>\n",
       "    <tr>\n",
       "      <th>4</th>\n",
       "      <td>Afghanistan</td>\n",
       "      <td>2015</td>\n",
       "      <td>2068.265904</td>\n",
       "    </tr>\n",
       "    <tr>\n",
       "      <th>...</th>\n",
       "      <td>...</td>\n",
       "      <td>...</td>\n",
       "      <td>...</td>\n",
       "    </tr>\n",
       "    <tr>\n",
       "      <th>6863</th>\n",
       "      <td>Zimbabwe</td>\n",
       "      <td>1994</td>\n",
       "      <td>3263.934978</td>\n",
       "    </tr>\n",
       "    <tr>\n",
       "      <th>6864</th>\n",
       "      <td>Zimbabwe</td>\n",
       "      <td>1993</td>\n",
       "      <td>3033.504852</td>\n",
       "    </tr>\n",
       "    <tr>\n",
       "      <th>6865</th>\n",
       "      <td>Zimbabwe</td>\n",
       "      <td>1992</td>\n",
       "      <td>3054.889178</td>\n",
       "    </tr>\n",
       "    <tr>\n",
       "      <th>6866</th>\n",
       "      <td>Zimbabwe</td>\n",
       "      <td>1991</td>\n",
       "      <td>3426.598094</td>\n",
       "    </tr>\n",
       "    <tr>\n",
       "      <th>6867</th>\n",
       "      <td>Zimbabwe</td>\n",
       "      <td>1990</td>\n",
       "      <td>3324.348171</td>\n",
       "    </tr>\n",
       "  </tbody>\n",
       "</table>\n",
       "<p>6868 rows × 3 columns</p>\n",
       "</div>"
      ],
      "text/plain": [
       "     Country or Area  Year        Value\n",
       "0        Afghanistan  2019  2065.036398\n",
       "1        Afghanistan  2018  2033.779002\n",
       "2        Afghanistan  2017  2058.383832\n",
       "3        Afghanistan  2016  2057.062164\n",
       "4        Afghanistan  2015  2068.265904\n",
       "...              ...   ...          ...\n",
       "6863        Zimbabwe  1994  3263.934978\n",
       "6864        Zimbabwe  1993  3033.504852\n",
       "6865        Zimbabwe  1992  3054.889178\n",
       "6866        Zimbabwe  1991  3426.598094\n",
       "6867        Zimbabwe  1990  3324.348171\n",
       "\n",
       "[6868 rows x 3 columns]"
      ]
     },
     "execution_count": 21,
     "metadata": {},
     "output_type": "execute_result"
    }
   ],
   "source": [
    "gdp_df"
   ]
  },
  {
   "cell_type": "markdown",
   "id": "58d8d074",
   "metadata": {},
   "source": [
    "# Question 11:\n",
    "Change the columns for the GDP Per Capita DataFrame to ‘Country’, ‘Year’, and ‘GDP_Per_Capita’."
   ]
  },
  {
   "cell_type": "markdown",
   "id": "47487425",
   "metadata": {},
   "source": [
    "Syntax:\n",
    " df = df.rename(columns={'oldName1': 'newName1', 'oldName2': 'newName2'})\n",
    " Or rename the existing DataFrame (rather than creating a copy) \n",
    " df.rename(columns={'oldName1': 'newName1', 'oldName2': 'newName2'}, inplace=True)"
   ]
  },
  {
   "cell_type": "code",
   "execution_count": 22,
   "id": "ba924b0f",
   "metadata": {},
   "outputs": [
    {
     "name": "stdout",
     "output_type": "stream",
     "text": [
      "          Country  Year  GDP_Per_Capita\n",
      "0     Afghanistan  2019     2065.036398\n",
      "1     Afghanistan  2018     2033.779002\n",
      "2     Afghanistan  2017     2058.383832\n",
      "3     Afghanistan  2016     2057.062164\n",
      "4     Afghanistan  2015     2068.265904\n",
      "...           ...   ...             ...\n",
      "6863     Zimbabwe  1994     3263.934978\n",
      "6864     Zimbabwe  1993     3033.504852\n",
      "6865     Zimbabwe  1992     3054.889178\n",
      "6866     Zimbabwe  1991     3426.598094\n",
      "6867     Zimbabwe  1990     3324.348171\n",
      "\n",
      "[6868 rows x 3 columns]\n"
     ]
    }
   ],
   "source": [
    "gdp_df.rename(columns = {'Country or Area': 'Country', 'Value':'GDP_Per_Capita'}, inplace = True)\n",
    "print(gdp_df)\n",
    "\n",
    "# can also use .column method, but you must list all columns"
   ]
  },
  {
   "cell_type": "markdown",
   "id": "62d3f263",
   "metadata": {},
   "source": [
    "# Question 12:\n",
    "\n",
    "Change the columns for the Internet Users DataFrame to ‘Country’, ‘Year’, and ‘Internet_Users_Pct’."
   ]
  },
  {
   "cell_type": "code",
   "execution_count": 23,
   "id": "eb1fefec",
   "metadata": {},
   "outputs": [
    {
     "name": "stdout",
     "output_type": "stream",
     "text": [
      "          Country  Year  Internet_Users_Pct\n",
      "0     Afghanistan  2014            6.390000\n",
      "1     Afghanistan  2013            5.900000\n",
      "2     Afghanistan  2012            5.454545\n",
      "3     Afghanistan  2011            5.000000\n",
      "4     Afghanistan  2010            4.000000\n",
      "...           ...   ...                 ...\n",
      "4490     Zimbabwe  1997            0.033080\n",
      "4491     Zimbabwe  1996            0.016790\n",
      "4492     Zimbabwe  1995            0.007684\n",
      "4493     Zimbabwe  1994            0.001739\n",
      "4494     Zimbabwe  1990            0.000000\n",
      "\n",
      "[4495 rows x 3 columns]\n"
     ]
    }
   ],
   "source": [
    "internet_df.rename(columns = {'Country or Area':'Country', 'Value':'Internet_Users_Pct'}, inplace = True)\n",
    "print(internet_df)"
   ]
  },
  {
   "cell_type": "markdown",
   "id": "de4daed6",
   "metadata": {},
   "source": [
    "# Question 13:\n",
    "Merge the two DataFrames to one. Merge all rows from each of the two DataFrames. Call the new DataFrame gdp_and_internet_use."
   ]
  },
  {
   "cell_type": "markdown",
   "id": "12804623",
   "metadata": {},
   "source": [
    "pandas.merge(left, right, how='inner', on=None, left_on=None, right_on=None, left_index=False, right_index=False, sort=False, suffixes=('_x', '_y'), copy=True, indicator=False, validate=None)[source]"
   ]
  },
  {
   "cell_type": "code",
   "execution_count": 24,
   "id": "abfe1d68",
   "metadata": {},
   "outputs": [
    {
     "data": {
      "text/html": [
       "<div>\n",
       "<style scoped>\n",
       "    .dataframe tbody tr th:only-of-type {\n",
       "        vertical-align: middle;\n",
       "    }\n",
       "\n",
       "    .dataframe tbody tr th {\n",
       "        vertical-align: top;\n",
       "    }\n",
       "\n",
       "    .dataframe thead th {\n",
       "        text-align: right;\n",
       "    }\n",
       "</style>\n",
       "<table border=\"1\" class=\"dataframe\">\n",
       "  <thead>\n",
       "    <tr style=\"text-align: right;\">\n",
       "      <th></th>\n",
       "      <th>Country</th>\n",
       "      <th>Year</th>\n",
       "      <th>Internet_Users_Pct</th>\n",
       "      <th>GDP_Per_Capita</th>\n",
       "    </tr>\n",
       "  </thead>\n",
       "  <tbody>\n",
       "    <tr>\n",
       "      <th>0</th>\n",
       "      <td>Afghanistan</td>\n",
       "      <td>2014</td>\n",
       "      <td>6.390000</td>\n",
       "      <td>2102.385234</td>\n",
       "    </tr>\n",
       "    <tr>\n",
       "      <th>1</th>\n",
       "      <td>Afghanistan</td>\n",
       "      <td>2013</td>\n",
       "      <td>5.900000</td>\n",
       "      <td>2116.465454</td>\n",
       "    </tr>\n",
       "    <tr>\n",
       "      <th>2</th>\n",
       "      <td>Afghanistan</td>\n",
       "      <td>2012</td>\n",
       "      <td>5.454545</td>\n",
       "      <td>2075.491747</td>\n",
       "    </tr>\n",
       "    <tr>\n",
       "      <th>3</th>\n",
       "      <td>Afghanistan</td>\n",
       "      <td>2011</td>\n",
       "      <td>5.000000</td>\n",
       "      <td>1904.559799</td>\n",
       "    </tr>\n",
       "    <tr>\n",
       "      <th>4</th>\n",
       "      <td>Afghanistan</td>\n",
       "      <td>2010</td>\n",
       "      <td>4.000000</td>\n",
       "      <td>1957.029338</td>\n",
       "    </tr>\n",
       "    <tr>\n",
       "      <th>...</th>\n",
       "      <td>...</td>\n",
       "      <td>...</td>\n",
       "      <td>...</td>\n",
       "      <td>...</td>\n",
       "    </tr>\n",
       "    <tr>\n",
       "      <th>7900</th>\n",
       "      <td>Zimbabwe</td>\n",
       "      <td>2016</td>\n",
       "      <td>NaN</td>\n",
       "      <td>2934.733650</td>\n",
       "    </tr>\n",
       "    <tr>\n",
       "      <th>7901</th>\n",
       "      <td>Zimbabwe</td>\n",
       "      <td>2015</td>\n",
       "      <td>NaN</td>\n",
       "      <td>2958.209004</td>\n",
       "    </tr>\n",
       "    <tr>\n",
       "      <th>7902</th>\n",
       "      <td>Zimbabwe</td>\n",
       "      <td>1993</td>\n",
       "      <td>NaN</td>\n",
       "      <td>3033.504852</td>\n",
       "    </tr>\n",
       "    <tr>\n",
       "      <th>7903</th>\n",
       "      <td>Zimbabwe</td>\n",
       "      <td>1992</td>\n",
       "      <td>NaN</td>\n",
       "      <td>3054.889178</td>\n",
       "    </tr>\n",
       "    <tr>\n",
       "      <th>7904</th>\n",
       "      <td>Zimbabwe</td>\n",
       "      <td>1991</td>\n",
       "      <td>NaN</td>\n",
       "      <td>3426.598094</td>\n",
       "    </tr>\n",
       "  </tbody>\n",
       "</table>\n",
       "<p>7905 rows × 4 columns</p>\n",
       "</div>"
      ],
      "text/plain": [
       "          Country  Year  Internet_Users_Pct  GDP_Per_Capita\n",
       "0     Afghanistan  2014            6.390000     2102.385234\n",
       "1     Afghanistan  2013            5.900000     2116.465454\n",
       "2     Afghanistan  2012            5.454545     2075.491747\n",
       "3     Afghanistan  2011            5.000000     1904.559799\n",
       "4     Afghanistan  2010            4.000000     1957.029338\n",
       "...           ...   ...                 ...             ...\n",
       "7900     Zimbabwe  2016                 NaN     2934.733650\n",
       "7901     Zimbabwe  2015                 NaN     2958.209004\n",
       "7902     Zimbabwe  1993                 NaN     3033.504852\n",
       "7903     Zimbabwe  1992                 NaN     3054.889178\n",
       "7904     Zimbabwe  1991                 NaN     3426.598094\n",
       "\n",
       "[7905 rows x 4 columns]"
      ]
     },
     "execution_count": 24,
     "metadata": {},
     "output_type": "execute_result"
    }
   ],
   "source": [
    "gdp_and_internet_use=pd.merge(internet_df, gdp_df, how='outer', on=['Country', 'Year']) \n",
    "gdp_and_internet_use\n",
    "\n",
    "# Default join is always inner. Can also use .merge function"
   ]
  },
  {
   "cell_type": "markdown",
   "id": "48c0290c",
   "metadata": {},
   "source": [
    "# Question 14:\n",
    "Look at the first five rows of your new DataFrame to confirm it merged correctly."
   ]
  },
  {
   "cell_type": "code",
   "execution_count": 25,
   "id": "40cb84b2",
   "metadata": {},
   "outputs": [
    {
     "data": {
      "text/html": [
       "<div>\n",
       "<style scoped>\n",
       "    .dataframe tbody tr th:only-of-type {\n",
       "        vertical-align: middle;\n",
       "    }\n",
       "\n",
       "    .dataframe tbody tr th {\n",
       "        vertical-align: top;\n",
       "    }\n",
       "\n",
       "    .dataframe thead th {\n",
       "        text-align: right;\n",
       "    }\n",
       "</style>\n",
       "<table border=\"1\" class=\"dataframe\">\n",
       "  <thead>\n",
       "    <tr style=\"text-align: right;\">\n",
       "      <th></th>\n",
       "      <th>Country</th>\n",
       "      <th>Year</th>\n",
       "      <th>Internet_Users_Pct</th>\n",
       "      <th>GDP_Per_Capita</th>\n",
       "    </tr>\n",
       "  </thead>\n",
       "  <tbody>\n",
       "    <tr>\n",
       "      <th>0</th>\n",
       "      <td>Afghanistan</td>\n",
       "      <td>2014</td>\n",
       "      <td>6.390000</td>\n",
       "      <td>2102.385234</td>\n",
       "    </tr>\n",
       "    <tr>\n",
       "      <th>1</th>\n",
       "      <td>Afghanistan</td>\n",
       "      <td>2013</td>\n",
       "      <td>5.900000</td>\n",
       "      <td>2116.465454</td>\n",
       "    </tr>\n",
       "    <tr>\n",
       "      <th>2</th>\n",
       "      <td>Afghanistan</td>\n",
       "      <td>2012</td>\n",
       "      <td>5.454545</td>\n",
       "      <td>2075.491747</td>\n",
       "    </tr>\n",
       "    <tr>\n",
       "      <th>3</th>\n",
       "      <td>Afghanistan</td>\n",
       "      <td>2011</td>\n",
       "      <td>5.000000</td>\n",
       "      <td>1904.559799</td>\n",
       "    </tr>\n",
       "    <tr>\n",
       "      <th>4</th>\n",
       "      <td>Afghanistan</td>\n",
       "      <td>2010</td>\n",
       "      <td>4.000000</td>\n",
       "      <td>1957.029338</td>\n",
       "    </tr>\n",
       "  </tbody>\n",
       "</table>\n",
       "</div>"
      ],
      "text/plain": [
       "       Country  Year  Internet_Users_Pct  GDP_Per_Capita\n",
       "0  Afghanistan  2014            6.390000     2102.385234\n",
       "1  Afghanistan  2013            5.900000     2116.465454\n",
       "2  Afghanistan  2012            5.454545     2075.491747\n",
       "3  Afghanistan  2011            5.000000     1904.559799\n",
       "4  Afghanistan  2010            4.000000     1957.029338"
      ]
     },
     "execution_count": 25,
     "metadata": {},
     "output_type": "execute_result"
    }
   ],
   "source": [
    "gdp_and_internet_use.head(5)"
   ]
  },
  {
   "cell_type": "markdown",
   "id": "6855ce73",
   "metadata": {},
   "source": [
    "# Question 15:\n",
    "Look at the last five rows to make sure the data is clean and as expected."
   ]
  },
  {
   "cell_type": "code",
   "execution_count": 26,
   "id": "930d3fcd",
   "metadata": {},
   "outputs": [
    {
     "data": {
      "text/html": [
       "<div>\n",
       "<style scoped>\n",
       "    .dataframe tbody tr th:only-of-type {\n",
       "        vertical-align: middle;\n",
       "    }\n",
       "\n",
       "    .dataframe tbody tr th {\n",
       "        vertical-align: top;\n",
       "    }\n",
       "\n",
       "    .dataframe thead th {\n",
       "        text-align: right;\n",
       "    }\n",
       "</style>\n",
       "<table border=\"1\" class=\"dataframe\">\n",
       "  <thead>\n",
       "    <tr style=\"text-align: right;\">\n",
       "      <th></th>\n",
       "      <th>Country</th>\n",
       "      <th>Year</th>\n",
       "      <th>Internet_Users_Pct</th>\n",
       "      <th>GDP_Per_Capita</th>\n",
       "    </tr>\n",
       "  </thead>\n",
       "  <tbody>\n",
       "    <tr>\n",
       "      <th>7900</th>\n",
       "      <td>Zimbabwe</td>\n",
       "      <td>2016</td>\n",
       "      <td>NaN</td>\n",
       "      <td>2934.733650</td>\n",
       "    </tr>\n",
       "    <tr>\n",
       "      <th>7901</th>\n",
       "      <td>Zimbabwe</td>\n",
       "      <td>2015</td>\n",
       "      <td>NaN</td>\n",
       "      <td>2958.209004</td>\n",
       "    </tr>\n",
       "    <tr>\n",
       "      <th>7902</th>\n",
       "      <td>Zimbabwe</td>\n",
       "      <td>1993</td>\n",
       "      <td>NaN</td>\n",
       "      <td>3033.504852</td>\n",
       "    </tr>\n",
       "    <tr>\n",
       "      <th>7903</th>\n",
       "      <td>Zimbabwe</td>\n",
       "      <td>1992</td>\n",
       "      <td>NaN</td>\n",
       "      <td>3054.889178</td>\n",
       "    </tr>\n",
       "    <tr>\n",
       "      <th>7904</th>\n",
       "      <td>Zimbabwe</td>\n",
       "      <td>1991</td>\n",
       "      <td>NaN</td>\n",
       "      <td>3426.598094</td>\n",
       "    </tr>\n",
       "  </tbody>\n",
       "</table>\n",
       "</div>"
      ],
      "text/plain": [
       "       Country  Year  Internet_Users_Pct  GDP_Per_Capita\n",
       "7900  Zimbabwe  2016                 NaN     2934.733650\n",
       "7901  Zimbabwe  2015                 NaN     2958.209004\n",
       "7902  Zimbabwe  1993                 NaN     3033.504852\n",
       "7903  Zimbabwe  1992                 NaN     3054.889178\n",
       "7904  Zimbabwe  1991                 NaN     3426.598094"
      ]
     },
     "execution_count": 26,
     "metadata": {},
     "output_type": "execute_result"
    }
   ],
   "source": [
    "gdp_and_internet_use.tail(5)"
   ]
  },
  {
   "cell_type": "markdown",
   "id": "dbce6226",
   "metadata": {},
   "source": [
    "# Question 16: \n",
    "Subset the combined DataFrame to keep only the data for 2004, 2009, and 2014. Check that this happened correctly.\n",
    "\n"
   ]
  },
  {
   "cell_type": "code",
   "execution_count": 27,
   "id": "7bc5487e",
   "metadata": {},
   "outputs": [
    {
     "data": {
      "text/html": [
       "<div>\n",
       "<style scoped>\n",
       "    .dataframe tbody tr th:only-of-type {\n",
       "        vertical-align: middle;\n",
       "    }\n",
       "\n",
       "    .dataframe tbody tr th {\n",
       "        vertical-align: top;\n",
       "    }\n",
       "\n",
       "    .dataframe thead th {\n",
       "        text-align: right;\n",
       "    }\n",
       "</style>\n",
       "<table border=\"1\" class=\"dataframe\">\n",
       "  <thead>\n",
       "    <tr style=\"text-align: right;\">\n",
       "      <th></th>\n",
       "      <th>Country</th>\n",
       "      <th>Year</th>\n",
       "      <th>Internet_Users_Pct</th>\n",
       "      <th>GDP_Per_Capita</th>\n",
       "    </tr>\n",
       "  </thead>\n",
       "  <tbody>\n",
       "    <tr>\n",
       "      <th>0</th>\n",
       "      <td>Afghanistan</td>\n",
       "      <td>2014</td>\n",
       "      <td>6.390000</td>\n",
       "      <td>2102.385234</td>\n",
       "    </tr>\n",
       "    <tr>\n",
       "      <th>5</th>\n",
       "      <td>Afghanistan</td>\n",
       "      <td>2009</td>\n",
       "      <td>3.550000</td>\n",
       "      <td>1758.904043</td>\n",
       "    </tr>\n",
       "    <tr>\n",
       "      <th>10</th>\n",
       "      <td>Afghanistan</td>\n",
       "      <td>2004</td>\n",
       "      <td>0.105809</td>\n",
       "      <td>1200.278256</td>\n",
       "    </tr>\n",
       "    <tr>\n",
       "      <th>15</th>\n",
       "      <td>Albania</td>\n",
       "      <td>2014</td>\n",
       "      <td>60.100000</td>\n",
       "      <td>11623.866680</td>\n",
       "    </tr>\n",
       "    <tr>\n",
       "      <th>20</th>\n",
       "      <td>Albania</td>\n",
       "      <td>2009</td>\n",
       "      <td>41.200000</td>\n",
       "      <td>10346.864200</td>\n",
       "    </tr>\n",
       "    <tr>\n",
       "      <th>...</th>\n",
       "      <td>...</td>\n",
       "      <td>...</td>\n",
       "      <td>...</td>\n",
       "      <td>...</td>\n",
       "    </tr>\n",
       "    <tr>\n",
       "      <th>7843</th>\n",
       "      <td>West Bank and Gaza</td>\n",
       "      <td>2009</td>\n",
       "      <td>NaN</td>\n",
       "      <td>5250.116075</td>\n",
       "    </tr>\n",
       "    <tr>\n",
       "      <th>7848</th>\n",
       "      <td>West Bank and Gaza</td>\n",
       "      <td>2004</td>\n",
       "      <td>NaN</td>\n",
       "      <td>4485.525458</td>\n",
       "    </tr>\n",
       "    <tr>\n",
       "      <th>7864</th>\n",
       "      <td>World</td>\n",
       "      <td>2014</td>\n",
       "      <td>NaN</td>\n",
       "      <td>15189.648510</td>\n",
       "    </tr>\n",
       "    <tr>\n",
       "      <th>7869</th>\n",
       "      <td>World</td>\n",
       "      <td>2009</td>\n",
       "      <td>NaN</td>\n",
       "      <td>13396.524160</td>\n",
       "    </tr>\n",
       "    <tr>\n",
       "      <th>7874</th>\n",
       "      <td>World</td>\n",
       "      <td>2004</td>\n",
       "      <td>NaN</td>\n",
       "      <td>12077.823820</td>\n",
       "    </tr>\n",
       "  </tbody>\n",
       "</table>\n",
       "<p>830 rows × 4 columns</p>\n",
       "</div>"
      ],
      "text/plain": [
       "                 Country  Year  Internet_Users_Pct  GDP_Per_Capita\n",
       "0            Afghanistan  2014            6.390000     2102.385234\n",
       "5            Afghanistan  2009            3.550000     1758.904043\n",
       "10           Afghanistan  2004            0.105809     1200.278256\n",
       "15               Albania  2014           60.100000    11623.866680\n",
       "20               Albania  2009           41.200000    10346.864200\n",
       "...                  ...   ...                 ...             ...\n",
       "7843  West Bank and Gaza  2009                 NaN     5250.116075\n",
       "7848  West Bank and Gaza  2004                 NaN     4485.525458\n",
       "7864               World  2014                 NaN    15189.648510\n",
       "7869               World  2009                 NaN    13396.524160\n",
       "7874               World  2004                 NaN    12077.823820\n",
       "\n",
       "[830 rows x 4 columns]"
      ]
     },
     "execution_count": 27,
     "metadata": {},
     "output_type": "execute_result"
    }
   ],
   "source": [
    "subset =gdp_and_internet_use.loc[gdp_and_internet_use['Year'].isin([2004,2009,2014])]\n",
    "subset\n",
    "\n",
    "# do not need .loc \n",
    "\n",
    "# shorthand: | = or, & = and"
   ]
  },
  {
   "cell_type": "markdown",
   "id": "c0e288ff",
   "metadata": {},
   "source": [
    "# Question 17:\n",
    "Create three new DataFrames, one for 2004, one for 2009, and one for 2014. Give them meaningful names that aren't too long.\n",
    "\n",
    "\n"
   ]
  },
  {
   "cell_type": "code",
   "execution_count": 28,
   "id": "b5655877",
   "metadata": {},
   "outputs": [
    {
     "data": {
      "text/html": [
       "<div>\n",
       "<style scoped>\n",
       "    .dataframe tbody tr th:only-of-type {\n",
       "        vertical-align: middle;\n",
       "    }\n",
       "\n",
       "    .dataframe tbody tr th {\n",
       "        vertical-align: top;\n",
       "    }\n",
       "\n",
       "    .dataframe thead th {\n",
       "        text-align: right;\n",
       "    }\n",
       "</style>\n",
       "<table border=\"1\" class=\"dataframe\">\n",
       "  <thead>\n",
       "    <tr style=\"text-align: right;\">\n",
       "      <th></th>\n",
       "      <th>Country</th>\n",
       "      <th>Year</th>\n",
       "      <th>Internet_Users_Pct</th>\n",
       "      <th>GDP_Per_Capita</th>\n",
       "    </tr>\n",
       "  </thead>\n",
       "  <tbody>\n",
       "    <tr>\n",
       "      <th>10</th>\n",
       "      <td>Afghanistan</td>\n",
       "      <td>2004</td>\n",
       "      <td>0.105809</td>\n",
       "      <td>1200.278256</td>\n",
       "    </tr>\n",
       "    <tr>\n",
       "      <th>25</th>\n",
       "      <td>Albania</td>\n",
       "      <td>2004</td>\n",
       "      <td>2.420388</td>\n",
       "      <td>7604.838002</td>\n",
       "    </tr>\n",
       "    <tr>\n",
       "      <th>46</th>\n",
       "      <td>Algeria</td>\n",
       "      <td>2004</td>\n",
       "      <td>4.634475</td>\n",
       "      <td>10058.435940</td>\n",
       "    </tr>\n",
       "    <tr>\n",
       "      <th>69</th>\n",
       "      <td>Andorra</td>\n",
       "      <td>2004</td>\n",
       "      <td>26.837954</td>\n",
       "      <td>NaN</td>\n",
       "    </tr>\n",
       "    <tr>\n",
       "      <th>88</th>\n",
       "      <td>Angola</td>\n",
       "      <td>2004</td>\n",
       "      <td>0.464815</td>\n",
       "      <td>5593.241537</td>\n",
       "    </tr>\n",
       "    <tr>\n",
       "      <th>...</th>\n",
       "      <td>...</td>\n",
       "      <td>...</td>\n",
       "      <td>...</td>\n",
       "      <td>...</td>\n",
       "    </tr>\n",
       "    <tr>\n",
       "      <th>7698</th>\n",
       "      <td>Tuvalu</td>\n",
       "      <td>2004</td>\n",
       "      <td>NaN</td>\n",
       "      <td>3336.952920</td>\n",
       "    </tr>\n",
       "    <tr>\n",
       "      <th>7761</th>\n",
       "      <td>Upper middle income</td>\n",
       "      <td>2004</td>\n",
       "      <td>NaN</td>\n",
       "      <td>8567.061394</td>\n",
       "    </tr>\n",
       "    <tr>\n",
       "      <th>7818</th>\n",
       "      <td>Vietnam</td>\n",
       "      <td>2004</td>\n",
       "      <td>NaN</td>\n",
       "      <td>3689.732423</td>\n",
       "    </tr>\n",
       "    <tr>\n",
       "      <th>7848</th>\n",
       "      <td>West Bank and Gaza</td>\n",
       "      <td>2004</td>\n",
       "      <td>NaN</td>\n",
       "      <td>4485.525458</td>\n",
       "    </tr>\n",
       "    <tr>\n",
       "      <th>7874</th>\n",
       "      <td>World</td>\n",
       "      <td>2004</td>\n",
       "      <td>NaN</td>\n",
       "      <td>12077.823820</td>\n",
       "    </tr>\n",
       "  </tbody>\n",
       "</table>\n",
       "<p>276 rows × 4 columns</p>\n",
       "</div>"
      ],
      "text/plain": [
       "                  Country  Year  Internet_Users_Pct  GDP_Per_Capita\n",
       "10            Afghanistan  2004            0.105809     1200.278256\n",
       "25                Albania  2004            2.420388     7604.838002\n",
       "46                Algeria  2004            4.634475    10058.435940\n",
       "69                Andorra  2004           26.837954             NaN\n",
       "88                 Angola  2004            0.464815     5593.241537\n",
       "...                   ...   ...                 ...             ...\n",
       "7698               Tuvalu  2004                 NaN     3336.952920\n",
       "7761  Upper middle income  2004                 NaN     8567.061394\n",
       "7818              Vietnam  2004                 NaN     3689.732423\n",
       "7848   West Bank and Gaza  2004                 NaN     4485.525458\n",
       "7874                World  2004                 NaN    12077.823820\n",
       "\n",
       "[276 rows x 4 columns]"
      ]
     },
     "execution_count": 28,
     "metadata": {},
     "output_type": "execute_result"
    }
   ],
   "source": [
    "df_2004=subset[subset['Year']==2004]\n",
    "df_2004\n",
    "\n",
    "# dataframe names cannot start with numbers"
   ]
  },
  {
   "cell_type": "code",
   "execution_count": 29,
   "id": "85547c80",
   "metadata": {},
   "outputs": [
    {
     "data": {
      "text/html": [
       "<div>\n",
       "<style scoped>\n",
       "    .dataframe tbody tr th:only-of-type {\n",
       "        vertical-align: middle;\n",
       "    }\n",
       "\n",
       "    .dataframe tbody tr th {\n",
       "        vertical-align: top;\n",
       "    }\n",
       "\n",
       "    .dataframe thead th {\n",
       "        text-align: right;\n",
       "    }\n",
       "</style>\n",
       "<table border=\"1\" class=\"dataframe\">\n",
       "  <thead>\n",
       "    <tr style=\"text-align: right;\">\n",
       "      <th></th>\n",
       "      <th>Country</th>\n",
       "      <th>Year</th>\n",
       "      <th>Internet_Users_Pct</th>\n",
       "      <th>GDP_Per_Capita</th>\n",
       "    </tr>\n",
       "  </thead>\n",
       "  <tbody>\n",
       "    <tr>\n",
       "      <th>5</th>\n",
       "      <td>Afghanistan</td>\n",
       "      <td>2009</td>\n",
       "      <td>3.55</td>\n",
       "      <td>1758.904043</td>\n",
       "    </tr>\n",
       "    <tr>\n",
       "      <th>20</th>\n",
       "      <td>Albania</td>\n",
       "      <td>2009</td>\n",
       "      <td>41.20</td>\n",
       "      <td>10346.864200</td>\n",
       "    </tr>\n",
       "    <tr>\n",
       "      <th>41</th>\n",
       "      <td>Algeria</td>\n",
       "      <td>2009</td>\n",
       "      <td>11.23</td>\n",
       "      <td>10782.361400</td>\n",
       "    </tr>\n",
       "    <tr>\n",
       "      <th>64</th>\n",
       "      <td>Andorra</td>\n",
       "      <td>2009</td>\n",
       "      <td>78.53</td>\n",
       "      <td>NaN</td>\n",
       "    </tr>\n",
       "    <tr>\n",
       "      <th>83</th>\n",
       "      <td>Angola</td>\n",
       "      <td>2009</td>\n",
       "      <td>6.00</td>\n",
       "      <td>7643.493749</td>\n",
       "    </tr>\n",
       "    <tr>\n",
       "      <th>...</th>\n",
       "      <td>...</td>\n",
       "      <td>...</td>\n",
       "      <td>...</td>\n",
       "      <td>...</td>\n",
       "    </tr>\n",
       "    <tr>\n",
       "      <th>7602</th>\n",
       "      <td>The Gambia</td>\n",
       "      <td>2009</td>\n",
       "      <td>NaN</td>\n",
       "      <td>2283.183556</td>\n",
       "    </tr>\n",
       "    <tr>\n",
       "      <th>7756</th>\n",
       "      <td>Upper middle income</td>\n",
       "      <td>2009</td>\n",
       "      <td>NaN</td>\n",
       "      <td>11212.934080</td>\n",
       "    </tr>\n",
       "    <tr>\n",
       "      <th>7813</th>\n",
       "      <td>Vietnam</td>\n",
       "      <td>2009</td>\n",
       "      <td>NaN</td>\n",
       "      <td>4830.304958</td>\n",
       "    </tr>\n",
       "    <tr>\n",
       "      <th>7843</th>\n",
       "      <td>West Bank and Gaza</td>\n",
       "      <td>2009</td>\n",
       "      <td>NaN</td>\n",
       "      <td>5250.116075</td>\n",
       "    </tr>\n",
       "    <tr>\n",
       "      <th>7869</th>\n",
       "      <td>World</td>\n",
       "      <td>2009</td>\n",
       "      <td>NaN</td>\n",
       "      <td>13396.524160</td>\n",
       "    </tr>\n",
       "  </tbody>\n",
       "</table>\n",
       "<p>277 rows × 4 columns</p>\n",
       "</div>"
      ],
      "text/plain": [
       "                  Country  Year  Internet_Users_Pct  GDP_Per_Capita\n",
       "5             Afghanistan  2009                3.55     1758.904043\n",
       "20                Albania  2009               41.20    10346.864200\n",
       "41                Algeria  2009               11.23    10782.361400\n",
       "64                Andorra  2009               78.53             NaN\n",
       "83                 Angola  2009                6.00     7643.493749\n",
       "...                   ...   ...                 ...             ...\n",
       "7602           The Gambia  2009                 NaN     2283.183556\n",
       "7756  Upper middle income  2009                 NaN    11212.934080\n",
       "7813              Vietnam  2009                 NaN     4830.304958\n",
       "7843   West Bank and Gaza  2009                 NaN     5250.116075\n",
       "7869                World  2009                 NaN    13396.524160\n",
       "\n",
       "[277 rows x 4 columns]"
      ]
     },
     "execution_count": 29,
     "metadata": {},
     "output_type": "execute_result"
    }
   ],
   "source": [
    "df_2009=subset[subset['Year']==2009]\n",
    "df_2009"
   ]
  },
  {
   "cell_type": "code",
   "execution_count": 30,
   "id": "fc0df257",
   "metadata": {},
   "outputs": [
    {
     "data": {
      "text/html": [
       "<div>\n",
       "<style scoped>\n",
       "    .dataframe tbody tr th:only-of-type {\n",
       "        vertical-align: middle;\n",
       "    }\n",
       "\n",
       "    .dataframe tbody tr th {\n",
       "        vertical-align: top;\n",
       "    }\n",
       "\n",
       "    .dataframe thead th {\n",
       "        text-align: right;\n",
       "    }\n",
       "</style>\n",
       "<table border=\"1\" class=\"dataframe\">\n",
       "  <thead>\n",
       "    <tr style=\"text-align: right;\">\n",
       "      <th></th>\n",
       "      <th>Country</th>\n",
       "      <th>Year</th>\n",
       "      <th>Internet_Users_Pct</th>\n",
       "      <th>GDP_Per_Capita</th>\n",
       "    </tr>\n",
       "  </thead>\n",
       "  <tbody>\n",
       "    <tr>\n",
       "      <th>0</th>\n",
       "      <td>Afghanistan</td>\n",
       "      <td>2014</td>\n",
       "      <td>6.39</td>\n",
       "      <td>2102.385234</td>\n",
       "    </tr>\n",
       "    <tr>\n",
       "      <th>15</th>\n",
       "      <td>Albania</td>\n",
       "      <td>2014</td>\n",
       "      <td>60.10</td>\n",
       "      <td>11623.866680</td>\n",
       "    </tr>\n",
       "    <tr>\n",
       "      <th>36</th>\n",
       "      <td>Algeria</td>\n",
       "      <td>2014</td>\n",
       "      <td>18.09</td>\n",
       "      <td>11512.705410</td>\n",
       "    </tr>\n",
       "    <tr>\n",
       "      <th>59</th>\n",
       "      <td>Andorra</td>\n",
       "      <td>2014</td>\n",
       "      <td>95.90</td>\n",
       "      <td>NaN</td>\n",
       "    </tr>\n",
       "    <tr>\n",
       "      <th>78</th>\n",
       "      <td>Angola</td>\n",
       "      <td>2014</td>\n",
       "      <td>21.26</td>\n",
       "      <td>8239.828837</td>\n",
       "    </tr>\n",
       "    <tr>\n",
       "      <th>...</th>\n",
       "      <td>...</td>\n",
       "      <td>...</td>\n",
       "      <td>...</td>\n",
       "      <td>...</td>\n",
       "    </tr>\n",
       "    <tr>\n",
       "      <th>7695</th>\n",
       "      <td>Tuvalu</td>\n",
       "      <td>2014</td>\n",
       "      <td>NaN</td>\n",
       "      <td>3450.793169</td>\n",
       "    </tr>\n",
       "    <tr>\n",
       "      <th>7751</th>\n",
       "      <td>Upper middle income</td>\n",
       "      <td>2014</td>\n",
       "      <td>NaN</td>\n",
       "      <td>14275.343980</td>\n",
       "    </tr>\n",
       "    <tr>\n",
       "      <th>7808</th>\n",
       "      <td>Vietnam</td>\n",
       "      <td>2014</td>\n",
       "      <td>NaN</td>\n",
       "      <td>6098.489609</td>\n",
       "    </tr>\n",
       "    <tr>\n",
       "      <th>7838</th>\n",
       "      <td>West Bank and Gaza</td>\n",
       "      <td>2014</td>\n",
       "      <td>NaN</td>\n",
       "      <td>5967.073437</td>\n",
       "    </tr>\n",
       "    <tr>\n",
       "      <th>7864</th>\n",
       "      <td>World</td>\n",
       "      <td>2014</td>\n",
       "      <td>NaN</td>\n",
       "      <td>15189.648510</td>\n",
       "    </tr>\n",
       "  </tbody>\n",
       "</table>\n",
       "<p>277 rows × 4 columns</p>\n",
       "</div>"
      ],
      "text/plain": [
       "                  Country  Year  Internet_Users_Pct  GDP_Per_Capita\n",
       "0             Afghanistan  2014                6.39     2102.385234\n",
       "15                Albania  2014               60.10    11623.866680\n",
       "36                Algeria  2014               18.09    11512.705410\n",
       "59                Andorra  2014               95.90             NaN\n",
       "78                 Angola  2014               21.26     8239.828837\n",
       "...                   ...   ...                 ...             ...\n",
       "7695               Tuvalu  2014                 NaN     3450.793169\n",
       "7751  Upper middle income  2014                 NaN    14275.343980\n",
       "7808              Vietnam  2014                 NaN     6098.489609\n",
       "7838   West Bank and Gaza  2014                 NaN     5967.073437\n",
       "7864                World  2014                 NaN    15189.648510\n",
       "\n",
       "[277 rows x 4 columns]"
      ]
     },
     "execution_count": 30,
     "metadata": {},
     "output_type": "execute_result"
    }
   ],
   "source": [
    "df_2014=subset[subset['Year']==2014]\n",
    "df_2014"
   ]
  },
  {
   "cell_type": "markdown",
   "id": "e6e4a0f8",
   "metadata": {},
   "source": [
    "# Question 18:\n",
    "Which country had the highest percentage of internet users in 2014? What was the percentage? (Try typing the first 3 letters of your DataFrame name and hitting the tab key for auto-complete options)."
   ]
  },
  {
   "cell_type": "markdown",
   "id": "1e321fbf",
   "metadata": {},
   "source": [
    "Iceland with 98.16%"
   ]
  },
  {
   "cell_type": "code",
   "execution_count": 31,
   "id": "101a6d72",
   "metadata": {},
   "outputs": [
    {
     "name": "stdout",
     "output_type": "stream",
     "text": [
      "      Country  Year  Internet_Users_Pct  GDP_Per_Capita\n",
      "1866  Iceland  2014               98.16      49652.1495\n"
     ]
    }
   ],
   "source": [
    "print(df_2014.nlargest(1, 'Internet_Users_Pct'))\n",
    "\n",
    "# syntax: df.nlargest(1, 'col'). Can also use idmax or max function"
   ]
  },
  {
   "cell_type": "markdown",
   "id": "056929e4",
   "metadata": {},
   "source": [
    "# Question 19:\n",
    "Which country had the lowest percentage of internet users in 2014? What was the percentage?"
   ]
  },
  {
   "cell_type": "markdown",
   "id": "ecdbaeca",
   "metadata": {},
   "source": [
    "# Answer: \n",
    "People's Rep of Korea with 0%"
   ]
  },
  {
   "cell_type": "code",
   "execution_count": 32,
   "id": "9e148a1e",
   "metadata": {},
   "outputs": [
    {
     "name": "stdout",
     "output_type": "stream",
     "text": [
      "                          Country  Year  Internet_Users_Pct  GDP_Per_Capita\n",
      "1065  Dem. People's Rep. of Korea  2014                 0.0             NaN\n"
     ]
    }
   ],
   "source": [
    "print(df_2014.nsmallest(1, 'Internet_Users_Pct'))\n",
    "\n",
    "# syntax: newdf = df.nsmallest(10, 'Column Name')"
   ]
  },
  {
   "cell_type": "markdown",
   "id": "b3895add",
   "metadata": {},
   "source": [
    "# Question 20:\n",
    "Repeat for 2004 and 2009."
   ]
  },
  {
   "cell_type": "markdown",
   "id": "9747e875",
   "metadata": {},
   "source": [
    "# Answers: \n",
    "2004: highest percentage is Iceland at 93% and lowest is People's Rep. of Korea at 0%.\n",
    "\n",
    "2009: highest percentage is Sweden at 83.89% and lowest is People's Rep. of Korea at 0%."
   ]
  },
  {
   "cell_type": "code",
   "execution_count": 33,
   "id": "41569fde",
   "metadata": {},
   "outputs": [
    {
     "name": "stdout",
     "output_type": "stream",
     "text": [
      "      Country  Year  Internet_Users_Pct  GDP_Per_Capita\n",
      "1871  Iceland  2009                93.0     48177.08412\n",
      "                          Country  Year  Internet_Users_Pct  GDP_Per_Capita\n",
      "1069  Dem. People's Rep. of Korea  2009                 0.0             NaN\n"
     ]
    }
   ],
   "source": [
    "print(df_2009.nlargest(1, 'Internet_Users_Pct'))\n",
    "print(df_2009.nsmallest(1, 'Internet_Users_Pct'))"
   ]
  },
  {
   "cell_type": "code",
   "execution_count": 34,
   "id": "d1057ccf",
   "metadata": {},
   "outputs": [
    {
     "name": "stdout",
     "output_type": "stream",
     "text": [
      "     Country  Year  Internet_Users_Pct  GDP_Per_Capita\n",
      "3835  Sweden  2004               83.89      44496.0234\n",
      "                          Country  Year  Internet_Users_Pct  GDP_Per_Capita\n",
      "1074  Dem. People's Rep. of Korea  2004                 0.0             NaN\n"
     ]
    }
   ],
   "source": [
    "print(df_2004.nlargest(1, 'Internet_Users_Pct'))\n",
    "print(df_2004.nsmallest(1, 'Internet_Users_Pct'))"
   ]
  },
  {
   "cell_type": "markdown",
   "id": "6f43125c",
   "metadata": {},
   "source": [
    "# Question 21: \n",
    "Which country had the highest gdp per capita in 2014? What was the gdp per capita?\n",
    "\n",
    "2014: China with 156514.1338 GDP_Per_Capita"
   ]
  },
  {
   "cell_type": "code",
   "execution_count": 35,
   "id": "51f0fe7a",
   "metadata": {},
   "outputs": [
    {
     "name": "stdout",
     "output_type": "stream",
     "text": [
      "               Country  Year  Internet_Users_Pct  GDP_Per_Capita\n",
      "6394  Macao SAR, China  2014                 NaN     156514.1338\n"
     ]
    }
   ],
   "source": [
    "print(df_2014.nlargest(1, 'GDP_Per_Capita'))"
   ]
  },
  {
   "cell_type": "markdown",
   "id": "715510f1",
   "metadata": {},
   "source": [
    "# Question 22: \n",
    "Which country had the lowest gdp per capita in 2014? What was the gdp per capita?\n",
    "\n",
    "2014: Central African Republic with 822.610458"
   ]
  },
  {
   "cell_type": "code",
   "execution_count": 36,
   "id": "8224539f",
   "metadata": {},
   "outputs": [
    {
     "name": "stdout",
     "output_type": "stream",
     "text": [
      "                       Country  Year  Internet_Users_Pct  GDP_Per_Capita\n",
      "4906  Central African Republic  2014                 NaN      822.610458\n"
     ]
    }
   ],
   "source": [
    "print(df_2014.nsmallest(1, 'GDP_Per_Capita'))"
   ]
  },
  {
   "cell_type": "markdown",
   "id": "5dd35817",
   "metadata": {},
   "source": [
    "# Question 23:\n",
    "Create some scatterplots:\n",
    "a. 2004 Percent Using the Internet vs GDP Per Capita\n",
    "b. 2009 Percent Using the Internet vs GDP Per Capita\n",
    "c. 2014 Percent Using the Internet vs GDP Per Capita"
   ]
  },
  {
   "cell_type": "code",
   "execution_count": 37,
   "id": "027e66b2",
   "metadata": {},
   "outputs": [
    {
     "data": {
      "image/png": "[encoded data removed]",
      "text/plain": [
       "<Figure size 576x396 with 1 Axes>"
      ]
     },
     "metadata": {},
     "output_type": "display_data"
    }
   ],
   "source": [
    "plt.style.use('seaborn')\n",
    "df_2004.plot.scatter('GDP_Per_Capita', 'Internet_Users_Pct', s=None, c='green')\n",
    "plt.xlabel('GDP Per Capita')\n",
    "plt.ylabel('Percent Using the Internet')\n",
    "plt.title('2004 Percent Using the Internet vs GDP Per Capita')\n",
    "tick_val = [0,20,40,60,80,100]\n",
    "plt.yticks(tick_val)\n",
    "plt.show()\n",
    "\n",
    "# plt.style.use('seaborn') gives it a grey background with gridlines\n",
    "\n",
    "# for assigning x and y axis, you want x axis to be independent y to be dependent (internet usage depends on the GDP per capita)\n"
   ]
  },
  {
   "cell_type": "markdown",
   "id": "32e5776d",
   "metadata": {},
   "source": []
  },
  {
   "cell_type": "code",
   "execution_count": 38,
   "id": "2981130e",
   "metadata": {},
   "outputs": [
    {
     "data": {
      "image/png": "[encoded data removed]",
      "text/plain": [
       "<Figure size 576x396 with 1 Axes>"
      ]
     },
     "metadata": {},
     "output_type": "display_data"
    }
   ],
   "source": [
    "df_2009.plot.scatter('GDP_Per_Capita', 'Internet_Users_Pct', s=None, c='green')\n",
    "plt.xlabel('GDP Per Capita')\n",
    "plt.ylabel('Percent Using the Internet')\n",
    "plt.title('2009 Percent Using the Internet vs GDP Per Capita')\n",
    "tick_val = [0,20,40,60,80,100]\n",
    "plt.yticks(tick_val)\n",
    "plt.show()"
   ]
  },
  {
   "cell_type": "code",
   "execution_count": 39,
   "id": "0d97acbb",
   "metadata": {},
   "outputs": [
    {
     "data": {
      "image/png": "[encoded data removed]",
      "text/plain": [
       "<Figure size 576x396 with 1 Axes>"
      ]
     },
     "metadata": {},
     "output_type": "display_data"
    }
   ],
   "source": [
    "df_2014.plot.scatter('GDP_Per_Capita', 'Internet_Users_Pct', s=None, c='green')\n",
    "plt.xlabel('GDP Per Capita')\n",
    "plt.ylabel('Percent Using the Internet')\n",
    "plt.title('2014 Percent Using the Internet vs GDP Per Capita')\n",
    "tick_val = [0,20,40,60,80,100]\n",
    "plt.yticks(tick_val)\n",
    "plt.show()"
   ]
  },
  {
   "cell_type": "markdown",
   "id": "ea1d9dd1",
   "metadata": {},
   "source": [
    "# Question 24:\n",
    "Are there differences across years? What do the plots tell you about any relationship between these two variables? Enter your observations as a markdown cell."
   ]
  },
  {
   "cell_type": "markdown",
   "id": "840a537f",
   "metadata": {},
   "source": [
    "Internet use increases over the years. It increases the most among the higher GDP per capita"
   ]
  },
  {
   "cell_type": "markdown",
   "id": "4ede4af3",
   "metadata": {},
   "source": [
    "# Question 25:\n",
    "Look at the distribution of gdp per capita values for 2014. Is it unimodal?"
   ]
  },
  {
   "cell_type": "markdown",
   "id": "fec6ada9",
   "metadata": {},
   "source": [
    "No, it is skewed to the right."
   ]
  },
  {
   "cell_type": "code",
   "execution_count": 40,
   "id": "c4d29839",
   "metadata": {
    "scrolled": false
   },
   "outputs": [
    {
     "data": {
      "image/png": "[encoded data removed]",
      "text/plain": [
       "<Figure size 576x396 with 1 Axes>"
      ]
     },
     "metadata": {},
     "output_type": "display_data"
    }
   ],
   "source": [
    "plt.hist(df_2014['GDP_Per_Capita'], bins=8)\n",
    "plt.show()"
   ]
  },
  {
   "cell_type": "markdown",
   "id": "b103b8c8",
   "metadata": {},
   "source": [
    "# Question 26:\n",
    "Look at the distribution of Internet Use for 2014. Is it unimodal?"
   ]
  },
  {
   "cell_type": "code",
   "execution_count": 41,
   "id": "ab9b08ce",
   "metadata": {},
   "outputs": [
    {
     "data": {
      "image/png": "[encoded data removed]",
      "text/plain": [
       "<Figure size 576x396 with 1 Axes>"
      ]
     },
     "metadata": {},
     "output_type": "display_data"
    }
   ],
   "source": [
    "plt.hist(df_2014['Internet_Users_Pct'], bins=8)\n",
    "plt.show()"
   ]
  },
  {
   "cell_type": "markdown",
   "id": "c91da1db",
   "metadata": {},
   "source": [
    "No, it is multimodal."
   ]
  },
  {
   "cell_type": "markdown",
   "id": "ce1c4f58",
   "metadata": {},
   "source": [
    "# Question 27:\n",
    "What are the top 5 countries in terms of internet use in 2014?"
   ]
  },
  {
   "cell_type": "code",
   "execution_count": 42,
   "id": "966bec21",
   "metadata": {},
   "outputs": [
    {
     "name": "stdout",
     "output_type": "stream",
     "text": [
      "      Country  Year  Internet_Users_Pct  GDP_Per_Capita\n",
      "1866  Iceland  2014               98.16     49652.14950\n",
      "415   Bermuda  2014               96.80     77361.10488\n",
      "3016   Norway  2014               96.30     62589.37355\n",
      "1083  Denmark  2014               95.99     52214.53775\n",
      "59    Andorra  2014               95.90             NaN\n"
     ]
    }
   ],
   "source": [
    "print(df_2014.nlargest(5,'Internet_Users_Pct'))"
   ]
  },
  {
   "cell_type": "markdown",
   "id": "d0ed44ea",
   "metadata": {},
   "source": [
    "# Question 28:\n",
    "Create a DataFrame called top_5_internet from the combined DataFrame that has all three years for the 5 countries that had the greatest 2014 internet usage. You should have 15 rows. Check that this is true."
   ]
  },
  {
   "cell_type": "code",
   "execution_count": 43,
   "id": "8827e175",
   "metadata": {
    "scrolled": true
   },
   "outputs": [
    {
     "name": "stdout",
     "output_type": "stream",
     "text": [
      "      Country  Year  Internet_Users_Pct  GDP_Per_Capita\n",
      "1866  Iceland  2014               98.16     49652.14950\n",
      "415   Bermuda  2014               96.80     77361.10488\n",
      "3016   Norway  2014               96.30     62589.37355\n",
      "1083  Denmark  2014               95.99     52214.53775\n",
      "59    Andorra  2014               95.90             NaN\n",
      "                 Country  Year  Internet_Users_Pct  GDP_Per_Capita\n",
      "0            Afghanistan  2014            6.390000     2102.385234\n",
      "5            Afghanistan  2009            3.550000     1758.904043\n",
      "10           Afghanistan  2004            0.105809     1200.278256\n",
      "15               Albania  2014           60.100000    11623.866680\n",
      "20               Albania  2009           41.200000    10346.864200\n",
      "...                  ...   ...                 ...             ...\n",
      "7843  West Bank and Gaza  2009                 NaN     5250.116075\n",
      "7848  West Bank and Gaza  2004                 NaN     4485.525458\n",
      "7864               World  2014                 NaN    15189.648510\n",
      "7869               World  2009                 NaN    13396.524160\n",
      "7874               World  2004                 NaN    12077.823820\n",
      "\n",
      "[830 rows x 4 columns]\n"
     ]
    }
   ],
   "source": [
    "top_5_internet=subset.nlargest(5,'Internet_Users_Pct')\n",
    "print(top_5_internet)\n",
    "\n",
    "subset =gdp_and_internet_use.loc[gdp_and_internet_use['Year'].isin([2004,2009,2014])]\n",
    "print(subset)\n",
    "\n",
    "#it's asking for information about those 5 countries in 2004 and 2009. "
   ]
  },
  {
   "cell_type": "code",
   "execution_count": 44,
   "id": "80599bba",
   "metadata": {},
   "outputs": [
    {
     "name": "stdout",
     "output_type": "stream",
     "text": [
      "      Country  Year  Internet_Users_Pct  GDP_Per_Capita\n",
      "1866  Iceland  2014               98.16     49652.14950\n",
      "415   Bermuda  2014               96.80     77361.10488\n",
      "3016   Norway  2014               96.30     62589.37355\n",
      "1083  Denmark  2014               95.99     52214.53775\n",
      "59    Andorra  2014               95.90             NaN\n"
     ]
    }
   ],
   "source": [
    "print(top_5_internet)"
   ]
  },
  {
   "cell_type": "code",
   "execution_count": 45,
   "id": "4ab6ae80",
   "metadata": {},
   "outputs": [
    {
     "name": "stdout",
     "output_type": "stream",
     "text": [
      "   Country  Year_x  Internet_Users_Pct_x  GDP_Per_Capita_x  Year_y  \\\n",
      "0  Iceland    2014                 98.16       49652.14950    2009   \n",
      "1  Bermuda    2014                 96.80       77361.10488    2009   \n",
      "2   Norway    2014                 96.30       62589.37355    2009   \n",
      "3  Denmark    2014                 95.99       52214.53775    2009   \n",
      "4  Andorra    2014                 95.90               NaN    2009   \n",
      "\n",
      "   Internet_Users_Pct_y  GDP_Per_Capita_y  \n",
      "0                 93.00       48177.08412  \n",
      "1                 83.25       89961.98274  \n",
      "2                 92.08       61886.56450  \n",
      "3                 86.84       50274.07570  \n",
      "4                 78.53               NaN  \n"
     ]
    }
   ],
   "source": [
    "test_1=pd.merge(top_5_internet, df_2009, how='left', on=['Country']) \n",
    "print(test_1)"
   ]
  },
  {
   "cell_type": "code",
   "execution_count": 46,
   "id": "dc109a5e",
   "metadata": {},
   "outputs": [
    {
     "name": "stdout",
     "output_type": "stream",
     "text": [
      "      Country  Year  Internet_Users_Pct  GDP_Per_Capita\n",
      "64    Andorra  2009               78.53             NaN\n",
      "420   Bermuda  2009               83.25     89961.98274\n",
      "1088  Denmark  2009               86.84     50274.07570\n",
      "1871  Iceland  2009               93.00     48177.08412\n",
      "3021   Norway  2009               92.08     61886.56450\n"
     ]
    }
   ],
   "source": [
    "test_2 = df_2009.loc[df_2009['Country'].isin(['Iceland','Bermuda', 'Norway','Denmark','Andorra'])]\n",
    "print(test_2)"
   ]
  },
  {
   "cell_type": "code",
   "execution_count": 47,
   "id": "200db193",
   "metadata": {},
   "outputs": [
    {
     "name": "stdout",
     "output_type": "stream",
     "text": [
      "      Country  Year  Internet_Users_Pct  GDP_Per_Capita\n",
      "69    Andorra  2004           26.837954             NaN\n",
      "425   Bermuda  2004           60.990867     90195.81103\n",
      "1093  Denmark  2004           80.930000     50607.62897\n",
      "1876  Iceland  2004           83.880000     45145.54566\n",
      "3026   Norway  2004           77.690000     60893.41099\n"
     ]
    }
   ],
   "source": [
    "test_3 = df_2004.loc[df_2004['Country'].isin(['Iceland','Bermuda', 'Norway','Denmark','Andorra'])]\n",
    "print(test_3)"
   ]
  },
  {
   "cell_type": "code",
   "execution_count": 48,
   "id": "36e5e317",
   "metadata": {},
   "outputs": [
    {
     "name": "stdout",
     "output_type": "stream",
     "text": [
      "    Country  Year  Internet_Users_Pct  GDP_Per_Capita\n",
      "0   Andorra  2009           78.530000             NaN\n",
      "1   Bermuda  2009           83.250000     89961.98274\n",
      "2   Denmark  2009           86.840000     50274.07570\n",
      "3   Iceland  2009           93.000000     48177.08412\n",
      "4    Norway  2009           92.080000     61886.56450\n",
      "5   Andorra  2004           26.837954             NaN\n",
      "6   Bermuda  2004           60.990867     90195.81103\n",
      "7   Denmark  2004           80.930000     50607.62897\n",
      "8   Iceland  2004           83.880000     45145.54566\n",
      "9    Norway  2004           77.690000     60893.41099\n",
      "10  Iceland  2014           98.160000     49652.14950\n",
      "11  Bermuda  2014           96.800000     77361.10488\n",
      "12   Norway  2014           96.300000     62589.37355\n",
      "13  Denmark  2014           95.990000     52214.53775\n",
      "14  Andorra  2014           95.900000             NaN\n"
     ]
    }
   ],
   "source": [
    "test_4 = pd.concat([test_2,test_3,top_5_internet], ignore_index=True)\n",
    "print(test_4)\n",
    "\n",
    "#combined three dataframes using concat"
   ]
  },
  {
   "cell_type": "code",
   "execution_count": 49,
   "id": "b6a19f24",
   "metadata": {},
   "outputs": [
    {
     "name": "stdout",
     "output_type": "stream",
     "text": [
      "      Country  Year  Internet_Users_Pct  GDP_Per_Capita\n",
      "59    Andorra  2014           95.900000             NaN\n",
      "64    Andorra  2009           78.530000             NaN\n",
      "69    Andorra  2004           26.837954             NaN\n",
      "415   Bermuda  2014           96.800000     77361.10488\n",
      "420   Bermuda  2009           83.250000     89961.98274\n",
      "425   Bermuda  2004           60.990867     90195.81103\n",
      "1083  Denmark  2014           95.990000     52214.53775\n",
      "1088  Denmark  2009           86.840000     50274.07570\n",
      "1093  Denmark  2004           80.930000     50607.62897\n",
      "1866  Iceland  2014           98.160000     49652.14950\n",
      "1871  Iceland  2009           93.000000     48177.08412\n",
      "1876  Iceland  2004           83.880000     45145.54566\n",
      "3016   Norway  2014           96.300000     62589.37355\n",
      "3021   Norway  2009           92.080000     61886.56450\n",
      "3026   Norway  2004           77.690000     60893.41099\n"
     ]
    }
   ],
   "source": [
    "test_5 = subset.loc[subset['Country'].isin(['Iceland','Bermuda', 'Norway','Denmark','Andorra'])] \n",
    "print(test_5)\n",
    "\n",
    "#much easier this way\n",
    "                    "
   ]
  },
  {
   "cell_type": "code",
   "execution_count": 50,
   "id": "420d74a6",
   "metadata": {},
   "outputs": [
    {
     "name": "stdout",
     "output_type": "stream",
     "text": [
      "(15, 4)\n"
     ]
    }
   ],
   "source": [
    "print(test_5.shape)"
   ]
  },
  {
   "cell_type": "markdown",
   "id": "2b617cc8",
   "metadata": {},
   "source": [
    "# Question 29:\n",
    "Create a seaborn FacetGrid to show the internet usage trend across the years 2004, 2009, and 2014 for these 5 countries (those with the highest reported internet use in 2014). Which country had the greatest growth between 2004 and 2014?"
   ]
  },
  {
   "cell_type": "code",
   "execution_count": 51,
   "id": "e8cfcdf1",
   "metadata": {},
   "outputs": [
    {
     "name": "stdout",
     "output_type": "stream",
     "text": [
      "      Country  Year  Internet_Users_Pct  GDP_Per_Capita\n",
      "1866  Iceland  2014               98.16     49652.14950\n",
      "415   Bermuda  2014               96.80     77361.10488\n",
      "3016   Norway  2014               96.30     62589.37355\n",
      "1083  Denmark  2014               95.99     52214.53775\n",
      "59    Andorra  2014               95.90             NaN\n"
     ]
    }
   ],
   "source": [
    "print(top_5_internet)"
   ]
  },
  {
   "cell_type": "code",
   "execution_count": 52,
   "id": "944934d5",
   "metadata": {
    "scrolled": true
   },
   "outputs": [
    {
     "data": {
      "text/plain": [
       "<seaborn.axisgrid.FacetGrid at 0x1a725c83b80>"
      ]
     },
     "execution_count": 52,
     "metadata": {},
     "output_type": "execute_result"
    },
    {
     "data": {
      "image/png": "[encoded data removed]",
      "text/plain": [
       "<Figure size 216x1080 with 5 Axes>"
      ]
     },
     "metadata": {},
     "output_type": "display_data"
    }
   ],
   "source": [
    " a = sns.FacetGrid(test_5, row='Country')\n",
    "a.map(sns.lineplot, \"Year\", \"Internet_Users_Pct\")"
   ]
  },
  {
   "cell_type": "markdown",
   "id": "773ab67c",
   "metadata": {},
   "source": [
    "Andorra had the greatest growth"
   ]
  },
  {
   "cell_type": "markdown",
   "id": "409c46ac",
   "metadata": {},
   "source": [
    "# Question 30:\n",
    "\n",
    "Repeat the steps above to look at the trend for the 5 countries with the lowest 2014 internet usage. Which country has consistently had the least internet use?"
   ]
  },
  {
   "cell_type": "code",
   "execution_count": 53,
   "id": "2ab0a792",
   "metadata": {},
   "outputs": [
    {
     "name": "stdout",
     "output_type": "stream",
     "text": [
      "                          Country  Year  Internet_Users_Pct  GDP_Per_Capita\n",
      "1065  Dem. People's Rep. of Korea  2014                0.00             NaN\n",
      "1256                      Eritrea  2014                0.99             NaN\n",
      "4019                  Timor-Leste  2014                1.14     3264.568070\n",
      "623                       Burundi  2014                1.38      886.235777\n",
      "3648                      Somalia  2014                1.63             NaN\n"
     ]
    }
   ],
   "source": [
    "bottom_5=df_2014.nsmallest(5,'Internet_Users_Pct')\n",
    "print(bottom_5)"
   ]
  },
  {
   "cell_type": "code",
   "execution_count": 54,
   "id": "1ad9148a",
   "metadata": {},
   "outputs": [
    {
     "data": {
      "text/html": [
       "<div>\n",
       "<style scoped>\n",
       "    .dataframe tbody tr th:only-of-type {\n",
       "        vertical-align: middle;\n",
       "    }\n",
       "\n",
       "    .dataframe tbody tr th {\n",
       "        vertical-align: top;\n",
       "    }\n",
       "\n",
       "    .dataframe thead th {\n",
       "        text-align: right;\n",
       "    }\n",
       "</style>\n",
       "<table border=\"1\" class=\"dataframe\">\n",
       "  <thead>\n",
       "    <tr style=\"text-align: right;\">\n",
       "      <th></th>\n",
       "      <th>Country</th>\n",
       "      <th>Year</th>\n",
       "      <th>Internet_Users_Pct</th>\n",
       "      <th>GDP_Per_Capita</th>\n",
       "    </tr>\n",
       "  </thead>\n",
       "  <tbody>\n",
       "    <tr>\n",
       "      <th>623</th>\n",
       "      <td>Burundi</td>\n",
       "      <td>2014</td>\n",
       "      <td>1.380000</td>\n",
       "      <td>886.235777</td>\n",
       "    </tr>\n",
       "    <tr>\n",
       "      <th>628</th>\n",
       "      <td>Burundi</td>\n",
       "      <td>2009</td>\n",
       "      <td>0.900000</td>\n",
       "      <td>831.564131</td>\n",
       "    </tr>\n",
       "    <tr>\n",
       "      <th>633</th>\n",
       "      <td>Burundi</td>\n",
       "      <td>2004</td>\n",
       "      <td>0.349060</td>\n",
       "      <td>817.460585</td>\n",
       "    </tr>\n",
       "    <tr>\n",
       "      <th>1065</th>\n",
       "      <td>Dem. People's Rep. of Korea</td>\n",
       "      <td>2014</td>\n",
       "      <td>0.000000</td>\n",
       "      <td>NaN</td>\n",
       "    </tr>\n",
       "    <tr>\n",
       "      <th>1069</th>\n",
       "      <td>Dem. People's Rep. of Korea</td>\n",
       "      <td>2009</td>\n",
       "      <td>0.000000</td>\n",
       "      <td>NaN</td>\n",
       "    </tr>\n",
       "    <tr>\n",
       "      <th>1074</th>\n",
       "      <td>Dem. People's Rep. of Korea</td>\n",
       "      <td>2004</td>\n",
       "      <td>0.000000</td>\n",
       "      <td>NaN</td>\n",
       "    </tr>\n",
       "    <tr>\n",
       "      <th>1256</th>\n",
       "      <td>Eritrea</td>\n",
       "      <td>2014</td>\n",
       "      <td>0.990000</td>\n",
       "      <td>NaN</td>\n",
       "    </tr>\n",
       "    <tr>\n",
       "      <th>1261</th>\n",
       "      <td>Eritrea</td>\n",
       "      <td>2009</td>\n",
       "      <td>0.540000</td>\n",
       "      <td>NaN</td>\n",
       "    </tr>\n",
       "    <tr>\n",
       "      <th>3648</th>\n",
       "      <td>Somalia</td>\n",
       "      <td>2014</td>\n",
       "      <td>1.630000</td>\n",
       "      <td>NaN</td>\n",
       "    </tr>\n",
       "    <tr>\n",
       "      <th>3652</th>\n",
       "      <td>Somalia</td>\n",
       "      <td>2009</td>\n",
       "      <td>1.160611</td>\n",
       "      <td>NaN</td>\n",
       "    </tr>\n",
       "    <tr>\n",
       "      <th>3657</th>\n",
       "      <td>Somalia</td>\n",
       "      <td>2004</td>\n",
       "      <td>1.053455</td>\n",
       "      <td>NaN</td>\n",
       "    </tr>\n",
       "    <tr>\n",
       "      <th>4019</th>\n",
       "      <td>Timor-Leste</td>\n",
       "      <td>2014</td>\n",
       "      <td>1.140000</td>\n",
       "      <td>3264.568070</td>\n",
       "    </tr>\n",
       "    <tr>\n",
       "      <th>4024</th>\n",
       "      <td>Timor-Leste</td>\n",
       "      <td>2009</td>\n",
       "      <td>0.185252</td>\n",
       "      <td>2724.770973</td>\n",
       "    </tr>\n",
       "    <tr>\n",
       "      <th>7627</th>\n",
       "      <td>Timor-Leste</td>\n",
       "      <td>2004</td>\n",
       "      <td>NaN</td>\n",
       "      <td>2258.608056</td>\n",
       "    </tr>\n",
       "  </tbody>\n",
       "</table>\n",
       "</div>"
      ],
      "text/plain": [
       "                          Country  Year  Internet_Users_Pct  GDP_Per_Capita\n",
       "623                       Burundi  2014            1.380000      886.235777\n",
       "628                       Burundi  2009            0.900000      831.564131\n",
       "633                       Burundi  2004            0.349060      817.460585\n",
       "1065  Dem. People's Rep. of Korea  2014            0.000000             NaN\n",
       "1069  Dem. People's Rep. of Korea  2009            0.000000             NaN\n",
       "1074  Dem. People's Rep. of Korea  2004            0.000000             NaN\n",
       "1256                      Eritrea  2014            0.990000             NaN\n",
       "1261                      Eritrea  2009            0.540000             NaN\n",
       "3648                      Somalia  2014            1.630000             NaN\n",
       "3652                      Somalia  2009            1.160611             NaN\n",
       "3657                      Somalia  2004            1.053455             NaN\n",
       "4019                  Timor-Leste  2014            1.140000     3264.568070\n",
       "4024                  Timor-Leste  2009            0.185252     2724.770973\n",
       "7627                  Timor-Leste  2004                 NaN     2258.608056"
      ]
     },
     "execution_count": 54,
     "metadata": {},
     "output_type": "execute_result"
    }
   ],
   "source": [
    "bottom_5_internet = subset.loc[subset['Country'].isin([\"Dem. People's Rep. of Korea\",'Eritrea', 'Timor-Leste','Burundi','Somalia'])] \n",
    "bottom_5_internet\n"
   ]
  },
  {
   "cell_type": "code",
   "execution_count": 55,
   "id": "f37cf3d7",
   "metadata": {},
   "outputs": [
    {
     "name": "stdout",
     "output_type": "stream",
     "text": [
      "(14, 4)\n"
     ]
    }
   ],
   "source": [
    "print(bottom_5_internet.shape)\n",
    "\n",
    "# only 14 rows because Eritrea is only showing up for 2014 and 2009. "
   ]
  },
  {
   "cell_type": "code",
   "execution_count": 56,
   "id": "bb3c8848",
   "metadata": {},
   "outputs": [
    {
     "name": "stdout",
     "output_type": "stream",
     "text": [
      "                          Country  Year  Internet_Users_Pct  GDP_Per_Capita\n",
      "1074  Dem. People's Rep. of Korea  2004            0.000000             NaN\n",
      "2824                      Myanmar  2004            0.024337     1696.881760\n",
      "2346                      Liberia  2004            0.031011     1181.546158\n",
      "3949                   Tajikistan  2004            0.077480     1737.743630\n",
      "10                    Afghanistan  2004            0.105809     1200.278256\n"
     ]
    }
   ],
   "source": [
    "print(df_2004.nsmallest(5,'Internet_Users_Pct'))\n",
    "\n",
    "# wanted to make sure I didn't miss it some how"
   ]
  },
  {
   "cell_type": "code",
   "execution_count": 57,
   "id": "bf64d3f6",
   "metadata": {},
   "outputs": [
    {
     "name": "stdout",
     "output_type": "stream",
     "text": [
      "Empty DataFrame\n",
      "Columns: [Country, Year, Internet_Users_Pct, GDP_Per_Capita]\n",
      "Index: []\n"
     ]
    }
   ],
   "source": [
    "Eritrea = df_2004.loc[df_2004['Country'].isin(['Eritrea'])] \n",
    "print(Eritrea)\n",
    "\n",
    "# no data for Eritrea in 2004 data frame."
   ]
  },
  {
   "cell_type": "code",
   "execution_count": 58,
   "id": "bfedcb7e",
   "metadata": {},
   "outputs": [
    {
     "data": {
      "text/plain": [
       "<seaborn.axisgrid.FacetGrid at 0x1a725e6c670>"
      ]
     },
     "execution_count": 58,
     "metadata": {},
     "output_type": "execute_result"
    },
    {
     "data": {
      "image/png": "[encoded data removed]",
      "text/plain": [
       "<Figure size 216x1080 with 5 Axes>"
      ]
     },
     "metadata": {},
     "output_type": "display_data"
    }
   ],
   "source": [
    "b = sns.FacetGrid(bottom_5_internet, row='Country')\n",
    "b.map(sns.lineplot, \"Year\", \"Internet_Users_Pct\")"
   ]
  },
  {
   "cell_type": "markdown",
   "id": "d9bb5578",
   "metadata": {},
   "source": [
    "Eritrea consistently had the lowest internet usage. \n"
   ]
  },
  {
   "cell_type": "markdown",
   "id": "77164f6a",
   "metadata": {},
   "source": [
    "# Question 31\n",
    "Find the top 5 countries for 2014 in terms of GDP per capita; create a DataFrame to look at 10-year trends (use 2004, 2009, 2014 to look at the 10-year trend) in gdp per capita for the 5 countries with the highest 2014 GDP per capita. Use a seaborn facet grid for this."
   ]
  },
  {
   "cell_type": "code",
   "execution_count": 59,
   "id": "3141c60a",
   "metadata": {},
   "outputs": [
    {
     "name": "stdout",
     "output_type": "stream",
     "text": [
      "               Country  Year  Internet_Users_Pct  GDP_Per_Capita\n",
      "6394  Macao SAR, China  2014                 NaN    156514.13380\n",
      "2407        Luxembourg  2014               94.67    108760.91600\n",
      "3279             Qatar  2014               91.49     95578.41697\n",
      "3556         Singapore  2014               82.00     87808.66316\n",
      "415            Bermuda  2014               96.80     77361.10488\n"
     ]
    }
   ],
   "source": [
    "top_5=df_2014.nlargest(5,'GDP_Per_Capita')\n",
    "print(top_5)\n",
    "\n",
    "# use .tolist()"
   ]
  },
  {
   "cell_type": "code",
   "execution_count": 60,
   "id": "bb7a6160",
   "metadata": {},
   "outputs": [
    {
     "name": "stdout",
     "output_type": "stream",
     "text": [
      "               Country  Year  Internet_Users_Pct  GDP_Per_Capita\n",
      "415            Bermuda  2014           96.800000     77361.10488\n",
      "420            Bermuda  2009           83.250000     89961.98274\n",
      "425            Bermuda  2004           60.990867     90195.81103\n",
      "2407        Luxembourg  2014           94.670000    108760.91600\n",
      "2412        Luxembourg  2009           87.310000    104932.81200\n",
      "2417        Luxembourg  2004           65.880000    102708.21250\n",
      "3279             Qatar  2014           91.490000     95578.41697\n",
      "3284             Qatar  2009           53.100000     89954.51999\n",
      "3289             Qatar  2004           20.701648     93748.30122\n",
      "3556         Singapore  2014           82.000000     87808.66316\n",
      "3561         Singapore  2009           69.000000     69466.58175\n",
      "3566         Singapore  2004           62.000000     63901.71637\n",
      "6394  Macao SAR, China  2014                 NaN    156514.13380\n",
      "6399  Macao SAR, China  2009                 NaN     95939.34082\n",
      "6404  Macao SAR, China  2004                 NaN     72944.40942\n"
     ]
    }
   ],
   "source": [
    "top_5_GDP = subset.loc[subset['Country'].isin(['Macao SAR, China', 'Luxembourg', 'Qatar', 'Singapore', 'Bermuda'])] \n",
    "print(top_5_GDP)"
   ]
  },
  {
   "cell_type": "code",
   "execution_count": 61,
   "id": "34ed77e4",
   "metadata": {},
   "outputs": [
    {
     "name": "stdout",
     "output_type": "stream",
     "text": [
      "(15, 4)\n"
     ]
    }
   ],
   "source": [
    "print(top_5_GDP.shape)"
   ]
  },
  {
   "cell_type": "code",
   "execution_count": 62,
   "id": "cd9ce906",
   "metadata": {},
   "outputs": [
    {
     "data": {
      "text/plain": [
       "<seaborn.axisgrid.FacetGrid at 0x1a725e1fe80>"
      ]
     },
     "execution_count": 62,
     "metadata": {},
     "output_type": "execute_result"
    },
    {
     "data": {
      "image/png": "[encoded data removed]",
      "text/plain": [
       "<Figure size 216x1080 with 5 Axes>"
      ]
     },
     "metadata": {},
     "output_type": "display_data"
    }
   ],
   "source": [
    "c = sns.FacetGrid(top_5_GDP, row='Country')\n",
    "c.map(sns.lineplot, \"Year\", \"GDP_Per_Capita\")"
   ]
  },
  {
   "cell_type": "markdown",
   "id": "0ea6d7b8",
   "metadata": {},
   "source": [
    "# Question 32:\n",
    "Repeat this one more time to look at 10-year trend for the 5 countries for 2014 with the lowest GDP per capita."
   ]
  },
  {
   "cell_type": "code",
   "execution_count": 63,
   "id": "7a182889",
   "metadata": {},
   "outputs": [
    {
     "data": {
      "text/html": [
       "<div>\n",
       "<style scoped>\n",
       "    .dataframe tbody tr th:only-of-type {\n",
       "        vertical-align: middle;\n",
       "    }\n",
       "\n",
       "    .dataframe tbody tr th {\n",
       "        vertical-align: top;\n",
       "    }\n",
       "\n",
       "    .dataframe thead th {\n",
       "        text-align: right;\n",
       "    }\n",
       "</style>\n",
       "<table border=\"1\" class=\"dataframe\">\n",
       "  <thead>\n",
       "    <tr style=\"text-align: right;\">\n",
       "      <th></th>\n",
       "      <th>Country</th>\n",
       "      <th>Year</th>\n",
       "      <th>Internet_Users_Pct</th>\n",
       "      <th>GDP_Per_Capita</th>\n",
       "    </tr>\n",
       "  </thead>\n",
       "  <tbody>\n",
       "    <tr>\n",
       "      <th>4906</th>\n",
       "      <td>Central African Republic</td>\n",
       "      <td>2014</td>\n",
       "      <td>NaN</td>\n",
       "      <td>822.610458</td>\n",
       "    </tr>\n",
       "    <tr>\n",
       "      <th>623</th>\n",
       "      <td>Burundi</td>\n",
       "      <td>2014</td>\n",
       "      <td>1.38</td>\n",
       "      <td>886.235777</td>\n",
       "    </tr>\n",
       "    <tr>\n",
       "      <th>2473</th>\n",
       "      <td>Malawi</td>\n",
       "      <td>2014</td>\n",
       "      <td>5.83</td>\n",
       "      <td>1027.208496</td>\n",
       "    </tr>\n",
       "    <tr>\n",
       "      <th>5063</th>\n",
       "      <td>Dem. Rep. Congo</td>\n",
       "      <td>2014</td>\n",
       "      <td>NaN</td>\n",
       "      <td>1029.790785</td>\n",
       "    </tr>\n",
       "    <tr>\n",
       "      <th>2975</th>\n",
       "      <td>Niger</td>\n",
       "      <td>2014</td>\n",
       "      <td>1.95</td>\n",
       "      <td>1127.615541</td>\n",
       "    </tr>\n",
       "  </tbody>\n",
       "</table>\n",
       "</div>"
      ],
      "text/plain": [
       "                       Country  Year  Internet_Users_Pct  GDP_Per_Capita\n",
       "4906  Central African Republic  2014                 NaN      822.610458\n",
       "623                    Burundi  2014                1.38      886.235777\n",
       "2473                    Malawi  2014                5.83     1027.208496\n",
       "5063           Dem. Rep. Congo  2014                 NaN     1029.790785\n",
       "2975                     Niger  2014                1.95     1127.615541"
      ]
     },
     "execution_count": 63,
     "metadata": {},
     "output_type": "execute_result"
    }
   ],
   "source": [
    "bottom_5_GDP_2014=df_2014.nsmallest(5,'GDP_Per_Capita')\n",
    "bottom_5_GDP_2014"
   ]
  },
  {
   "cell_type": "code",
   "execution_count": 64,
   "id": "e2bdeb1d",
   "metadata": {},
   "outputs": [
    {
     "data": {
      "text/html": [
       "<div>\n",
       "<style scoped>\n",
       "    .dataframe tbody tr th:only-of-type {\n",
       "        vertical-align: middle;\n",
       "    }\n",
       "\n",
       "    .dataframe tbody tr th {\n",
       "        vertical-align: top;\n",
       "    }\n",
       "\n",
       "    .dataframe thead th {\n",
       "        text-align: right;\n",
       "    }\n",
       "</style>\n",
       "<table border=\"1\" class=\"dataframe\">\n",
       "  <thead>\n",
       "    <tr style=\"text-align: right;\">\n",
       "      <th></th>\n",
       "      <th>Country</th>\n",
       "      <th>Year</th>\n",
       "      <th>Internet_Users_Pct</th>\n",
       "      <th>GDP_Per_Capita</th>\n",
       "    </tr>\n",
       "  </thead>\n",
       "  <tbody>\n",
       "    <tr>\n",
       "      <th>623</th>\n",
       "      <td>Burundi</td>\n",
       "      <td>2014</td>\n",
       "      <td>1.380000</td>\n",
       "      <td>886.235777</td>\n",
       "    </tr>\n",
       "    <tr>\n",
       "      <th>628</th>\n",
       "      <td>Burundi</td>\n",
       "      <td>2009</td>\n",
       "      <td>0.900000</td>\n",
       "      <td>831.564131</td>\n",
       "    </tr>\n",
       "    <tr>\n",
       "      <th>633</th>\n",
       "      <td>Burundi</td>\n",
       "      <td>2004</td>\n",
       "      <td>0.349060</td>\n",
       "      <td>817.460585</td>\n",
       "    </tr>\n",
       "    <tr>\n",
       "      <th>2473</th>\n",
       "      <td>Malawi</td>\n",
       "      <td>2014</td>\n",
       "      <td>5.830000</td>\n",
       "      <td>1027.208496</td>\n",
       "    </tr>\n",
       "    <tr>\n",
       "      <th>2478</th>\n",
       "      <td>Malawi</td>\n",
       "      <td>2009</td>\n",
       "      <td>1.070000</td>\n",
       "      <td>932.867635</td>\n",
       "    </tr>\n",
       "    <tr>\n",
       "      <th>2483</th>\n",
       "      <td>Malawi</td>\n",
       "      <td>2004</td>\n",
       "      <td>0.347505</td>\n",
       "      <td>775.346132</td>\n",
       "    </tr>\n",
       "    <tr>\n",
       "      <th>2975</th>\n",
       "      <td>Niger</td>\n",
       "      <td>2014</td>\n",
       "      <td>1.950000</td>\n",
       "      <td>1127.615541</td>\n",
       "    </tr>\n",
       "    <tr>\n",
       "      <th>2980</th>\n",
       "      <td>Niger</td>\n",
       "      <td>2009</td>\n",
       "      <td>0.760000</td>\n",
       "      <td>992.409977</td>\n",
       "    </tr>\n",
       "    <tr>\n",
       "      <th>2985</th>\n",
       "      <td>Niger</td>\n",
       "      <td>2004</td>\n",
       "      <td>0.189934</td>\n",
       "      <td>929.883920</td>\n",
       "    </tr>\n",
       "    <tr>\n",
       "      <th>4906</th>\n",
       "      <td>Central African Republic</td>\n",
       "      <td>2014</td>\n",
       "      <td>NaN</td>\n",
       "      <td>822.610458</td>\n",
       "    </tr>\n",
       "    <tr>\n",
       "      <th>4911</th>\n",
       "      <td>Central African Republic</td>\n",
       "      <td>2009</td>\n",
       "      <td>NaN</td>\n",
       "      <td>1161.189475</td>\n",
       "    </tr>\n",
       "    <tr>\n",
       "      <th>4916</th>\n",
       "      <td>Central African Republic</td>\n",
       "      <td>2004</td>\n",
       "      <td>NaN</td>\n",
       "      <td>1037.846766</td>\n",
       "    </tr>\n",
       "    <tr>\n",
       "      <th>5063</th>\n",
       "      <td>Dem. Rep. Congo</td>\n",
       "      <td>2014</td>\n",
       "      <td>NaN</td>\n",
       "      <td>1029.790785</td>\n",
       "    </tr>\n",
       "    <tr>\n",
       "      <th>5068</th>\n",
       "      <td>Dem. Rep. Congo</td>\n",
       "      <td>2009</td>\n",
       "      <td>NaN</td>\n",
       "      <td>835.611696</td>\n",
       "    </tr>\n",
       "    <tr>\n",
       "      <th>5073</th>\n",
       "      <td>Dem. Rep. Congo</td>\n",
       "      <td>2004</td>\n",
       "      <td>NaN</td>\n",
       "      <td>757.685942</td>\n",
       "    </tr>\n",
       "  </tbody>\n",
       "</table>\n",
       "</div>"
      ],
      "text/plain": [
       "                       Country  Year  Internet_Users_Pct  GDP_Per_Capita\n",
       "623                    Burundi  2014            1.380000      886.235777\n",
       "628                    Burundi  2009            0.900000      831.564131\n",
       "633                    Burundi  2004            0.349060      817.460585\n",
       "2473                    Malawi  2014            5.830000     1027.208496\n",
       "2478                    Malawi  2009            1.070000      932.867635\n",
       "2483                    Malawi  2004            0.347505      775.346132\n",
       "2975                     Niger  2014            1.950000     1127.615541\n",
       "2980                     Niger  2009            0.760000      992.409977\n",
       "2985                     Niger  2004            0.189934      929.883920\n",
       "4906  Central African Republic  2014                 NaN      822.610458\n",
       "4911  Central African Republic  2009                 NaN     1161.189475\n",
       "4916  Central African Republic  2004                 NaN     1037.846766\n",
       "5063           Dem. Rep. Congo  2014                 NaN     1029.790785\n",
       "5068           Dem. Rep. Congo  2009                 NaN      835.611696\n",
       "5073           Dem. Rep. Congo  2004                 NaN      757.685942"
      ]
     },
     "execution_count": 64,
     "metadata": {},
     "output_type": "execute_result"
    }
   ],
   "source": [
    "bottom_5_GDP = subset.loc[subset['Country'].isin(['Central African Republic', 'Burundi', 'Malawi', 'Dem. Rep. Congo', 'Niger'])] \n",
    "bottom_5_GDP"
   ]
  },
  {
   "cell_type": "code",
   "execution_count": 65,
   "id": "0594002c",
   "metadata": {},
   "outputs": [
    {
     "name": "stdout",
     "output_type": "stream",
     "text": [
      "(15, 4)\n"
     ]
    }
   ],
   "source": [
    "print(bottom_5_GDP.shape)"
   ]
  },
  {
   "cell_type": "code",
   "execution_count": 66,
   "id": "6fcb0fff",
   "metadata": {},
   "outputs": [
    {
     "data": {
      "text/plain": [
       "<seaborn.axisgrid.FacetGrid at 0x1a726fe5fa0>"
      ]
     },
     "execution_count": 66,
     "metadata": {},
     "output_type": "execute_result"
    },
    {
     "data": {
      "image/png": "[encoded data removed]",
      "text/plain": [
       "<Figure size 216x1080 with 5 Axes>"
      ]
     },
     "metadata": {},
     "output_type": "display_data"
    }
   ],
   "source": [
    "d = sns.FacetGrid(bottom_5_GDP, row='Country')\n",
    "d.map(sns.lineplot, \"Year\", \"GDP_Per_Capita\")"
   ]
  },
  {
   "cell_type": "markdown",
   "id": "dc2dbb59",
   "metadata": {},
   "source": [
    "# Question 33: \n",
    "Is there anything surprising or unusual in any of these plots? Searching on the internet, can you find any possible explanations for unusual findings?"
   ]
  },
  {
   "cell_type": "markdown",
   "id": "a8832f22",
   "metadata": {},
   "source": [
    "Central African Republic had a sharp decline in GDP per Capita due to the Central African Republic Civil War"
   ]
  },
  {
   "cell_type": "markdown",
   "id": "96253122",
   "metadata": {},
   "source": [
    "# Bonus\n",
    "Download another data set from the UN data (http://data.un.org/Explorer.aspx) to merge with your data and explore."
   ]
  },
  {
   "cell_type": "code",
   "execution_count": 67,
   "id": "fc598155",
   "metadata": {},
   "outputs": [
    {
     "name": "stdout",
     "output_type": "stream",
     "text": [
      "  Country or Area  Year(s)  GENDER EDUCATION LEVEL RESIDENCE AREA  \\\n",
      "0         Albania     2008    Male             NaN            NaN   \n",
      "1         Albania     2008  Female             NaN            NaN   \n",
      "2         Albania     2008     NaN             NaN            NaN   \n",
      "3         Albania     2008     NaN             NaN            NaN   \n",
      "4         Albania     2008     NaN             NaN            NaN   \n",
      "5         Albania     2008     NaN             NaN            NaN   \n",
      "\n",
      "  WEALTH QUINTILE  Value  Value Footnotes  \n",
      "0             NaN   22.4              NaN  \n",
      "1             NaN   15.5              NaN  \n",
      "2    Q1 (Poorest)   29.1              NaN  \n",
      "3              Q2    9.8              NaN  \n",
      "4              Q3   23.0              NaN  \n",
      "5              Q4   17.5              NaN  \n"
     ]
    }
   ],
   "source": [
    "infant_df = pd.read_csv(\"../Data/infant_mortality.csv\", nrows=1734)\n",
    "print(infant_df.head(6))"
   ]
  },
  {
   "cell_type": "code",
   "execution_count": 68,
   "id": "e8897ef4",
   "metadata": {},
   "outputs": [
    {
     "name": "stdout",
     "output_type": "stream",
     "text": [
      "(1734, 8)\n"
     ]
    }
   ],
   "source": [
    "print(infant_df.shape)"
   ]
  },
  {
   "cell_type": "code",
   "execution_count": 69,
   "id": "4ef56848",
   "metadata": {},
   "outputs": [
    {
     "name": "stdout",
     "output_type": "stream",
     "text": [
      "None\n"
     ]
    }
   ],
   "source": [
    "infant_df_1=infant_df.drop(infant_df.columns[[2,3,4,5,7]], axis=1, inplace=True)\n",
    "print(infant_df_1)"
   ]
  },
  {
   "cell_type": "code",
   "execution_count": 70,
   "id": "3b99b026",
   "metadata": {},
   "outputs": [
    {
     "data": {
      "text/html": [
       "<div>\n",
       "<style scoped>\n",
       "    .dataframe tbody tr th:only-of-type {\n",
       "        vertical-align: middle;\n",
       "    }\n",
       "\n",
       "    .dataframe tbody tr th {\n",
       "        vertical-align: top;\n",
       "    }\n",
       "\n",
       "    .dataframe thead th {\n",
       "        text-align: right;\n",
       "    }\n",
       "</style>\n",
       "<table border=\"1\" class=\"dataframe\">\n",
       "  <thead>\n",
       "    <tr style=\"text-align: right;\">\n",
       "      <th></th>\n",
       "      <th>Country or Area</th>\n",
       "      <th>Year(s)</th>\n",
       "      <th>Value</th>\n",
       "    </tr>\n",
       "  </thead>\n",
       "  <tbody>\n",
       "    <tr>\n",
       "      <th>0</th>\n",
       "      <td>Albania</td>\n",
       "      <td>2008</td>\n",
       "      <td>22.4</td>\n",
       "    </tr>\n",
       "    <tr>\n",
       "      <th>1</th>\n",
       "      <td>Albania</td>\n",
       "      <td>2008</td>\n",
       "      <td>15.5</td>\n",
       "    </tr>\n",
       "    <tr>\n",
       "      <th>2</th>\n",
       "      <td>Albania</td>\n",
       "      <td>2008</td>\n",
       "      <td>29.1</td>\n",
       "    </tr>\n",
       "    <tr>\n",
       "      <th>3</th>\n",
       "      <td>Albania</td>\n",
       "      <td>2008</td>\n",
       "      <td>9.8</td>\n",
       "    </tr>\n",
       "    <tr>\n",
       "      <th>4</th>\n",
       "      <td>Albania</td>\n",
       "      <td>2008</td>\n",
       "      <td>23.0</td>\n",
       "    </tr>\n",
       "    <tr>\n",
       "      <th>...</th>\n",
       "      <td>...</td>\n",
       "      <td>...</td>\n",
       "      <td>...</td>\n",
       "    </tr>\n",
       "    <tr>\n",
       "      <th>1729</th>\n",
       "      <td>Zimbabwe</td>\n",
       "      <td>1994</td>\n",
       "      <td>51.9</td>\n",
       "    </tr>\n",
       "    <tr>\n",
       "      <th>1730</th>\n",
       "      <td>Zimbabwe</td>\n",
       "      <td>1994</td>\n",
       "      <td>48.5</td>\n",
       "    </tr>\n",
       "    <tr>\n",
       "      <th>1731</th>\n",
       "      <td>Zimbabwe</td>\n",
       "      <td>1994</td>\n",
       "      <td>47.1</td>\n",
       "    </tr>\n",
       "    <tr>\n",
       "      <th>1732</th>\n",
       "      <td>Zimbabwe</td>\n",
       "      <td>1994</td>\n",
       "      <td>64.7</td>\n",
       "    </tr>\n",
       "    <tr>\n",
       "      <th>1733</th>\n",
       "      <td>Zimbabwe</td>\n",
       "      <td>1994</td>\n",
       "      <td>39.7</td>\n",
       "    </tr>\n",
       "  </tbody>\n",
       "</table>\n",
       "<p>1734 rows × 3 columns</p>\n",
       "</div>"
      ],
      "text/plain": [
       "     Country or Area  Year(s)  Value\n",
       "0            Albania     2008   22.4\n",
       "1            Albania     2008   15.5\n",
       "2            Albania     2008   29.1\n",
       "3            Albania     2008    9.8\n",
       "4            Albania     2008   23.0\n",
       "...              ...      ...    ...\n",
       "1729        Zimbabwe     1994   51.9\n",
       "1730        Zimbabwe     1994   48.5\n",
       "1731        Zimbabwe     1994   47.1\n",
       "1732        Zimbabwe     1994   64.7\n",
       "1733        Zimbabwe     1994   39.7\n",
       "\n",
       "[1734 rows x 3 columns]"
      ]
     },
     "execution_count": 70,
     "metadata": {},
     "output_type": "execute_result"
    }
   ],
   "source": [
    "infant_df"
   ]
  },
  {
   "cell_type": "code",
   "execution_count": 71,
   "id": "5d35cbd6",
   "metadata": {},
   "outputs": [
    {
     "name": "stdout",
     "output_type": "stream",
     "text": [
      "       Country  Year  Mortality Rate\n",
      "0      Albania  2008            22.4\n",
      "1      Albania  2008            15.5\n",
      "2      Albania  2008            29.1\n",
      "3      Albania  2008             9.8\n",
      "4      Albania  2008            23.0\n",
      "...        ...   ...             ...\n",
      "1729  Zimbabwe  1994            51.9\n",
      "1730  Zimbabwe  1994            48.5\n",
      "1731  Zimbabwe  1994            47.1\n",
      "1732  Zimbabwe  1994            64.7\n",
      "1733  Zimbabwe  1994            39.7\n",
      "\n",
      "[1734 rows x 3 columns]\n"
     ]
    }
   ],
   "source": [
    "infant_df.rename(columns = {'Country or Area':'Country', 'Year(s)': 'Year','Value':'Mortality Rate'}, inplace = True)\n",
    "print(infant_df)"
   ]
  },
  {
   "cell_type": "markdown",
   "id": "7dfec96f",
   "metadata": {},
   "source": [
    "NOte: need to change so that columns that I'm joining on are the same type.\n",
    "\n",
    "\n",
    "infant_gdp_internet_df=pd.merge(infant_df, gdp_and_internet_use, how='left', on=['Country', 'Year']) \n",
    "print(infant_gdp_internet_df)"
   ]
  },
  {
   "cell_type": "code",
   "execution_count": 72,
   "id": "202deb4b",
   "metadata": {},
   "outputs": [
    {
     "name": "stdout",
     "output_type": "stream",
     "text": [
      "Country            object\n",
      "Year                int64\n",
      "Mortality Rate    float64\n",
      "dtype: object\n"
     ]
    }
   ],
   "source": [
    "print(infant_df.dtypes)"
   ]
  },
  {
   "cell_type": "code",
   "execution_count": 73,
   "id": "2a4ff6b7",
   "metadata": {},
   "outputs": [
    {
     "name": "stdout",
     "output_type": "stream",
     "text": [
      "Country                object\n",
      "Year                    int64\n",
      "Internet_Users_Pct    float64\n",
      "GDP_Per_Capita        float64\n",
      "dtype: object\n"
     ]
    }
   ],
   "source": [
    "print(gdp_and_internet_use.dtypes)"
   ]
  },
  {
   "cell_type": "markdown",
   "id": "be5960c1",
   "metadata": {},
   "source": [
    "pd.read.csv has an optional argument to define data types (or to assume data types)"
   ]
  },
  {
   "cell_type": "markdown",
   "id": "564e5c49",
   "metadata": {},
   "source": [
    "xkcd style"
   ]
  },
  {
   "cell_type": "code",
   "execution_count": 74,
   "id": "9cf62fa5",
   "metadata": {},
   "outputs": [
    {
     "name": "stdout",
     "output_type": "stream",
     "text": [
      "       Country  Year  Mortality Rate  Internet_Users_Pct  GDP_Per_Capita\n",
      "0      Albania  2008            22.4           23.860000     9944.233283\n",
      "1      Albania  2008            15.5           23.860000     9944.233283\n",
      "2      Albania  2008            29.1           23.860000     9944.233283\n",
      "3      Albania  2008             9.8           23.860000     9944.233283\n",
      "4      Albania  2008            23.0           23.860000     9944.233283\n",
      "...        ...   ...             ...                 ...             ...\n",
      "1729  Zimbabwe  1994            51.9            0.001739     3263.934978\n",
      "1730  Zimbabwe  1994            48.5            0.001739     3263.934978\n",
      "1731  Zimbabwe  1994            47.1            0.001739     3263.934978\n",
      "1732  Zimbabwe  1994            64.7            0.001739     3263.934978\n",
      "1733  Zimbabwe  1994            39.7            0.001739     3263.934978\n",
      "\n",
      "[1734 rows x 5 columns]\n"
     ]
    }
   ],
   "source": [
    "infant_gdp_internet_df=pd.merge(infant_df, gdp_and_internet_use, how='left', on=['Country', 'Year']) \n",
    "print(infant_gdp_internet_df)"
   ]
  },
  {
   "cell_type": "code",
   "execution_count": 75,
   "id": "59c8d58b",
   "metadata": {},
   "outputs": [
    {
     "name": "stdout",
     "output_type": "stream",
     "text": [
      "         Country  Year  Mortality Rate  Internet_Users_Pct  GDP_Per_Capita\n",
      "1088  Mozambique  1997           186.5            0.011843      548.347528\n",
      "1094  Mozambique  1997           159.2            0.011843      548.347528\n",
      "1212       Niger  1998           157.6            0.002912     1017.399299\n",
      "1095  Mozambique  1997           154.6            0.011843      548.347528\n",
      "1211       Niger  1998           152.8            0.002912     1017.399299\n"
     ]
    }
   ],
   "source": [
    "top_5_mortality=infant_gdp_internet_df.nlargest(5,'Mortality Rate')\n",
    "print(top_5_mortality)\n"
   ]
  },
  {
   "cell_type": "code",
   "execution_count": 76,
   "id": "0c4f8d85",
   "metadata": {},
   "outputs": [
    {
     "data": {
      "text/html": [
       "<div>\n",
       "<style scoped>\n",
       "    .dataframe tbody tr th:only-of-type {\n",
       "        vertical-align: middle;\n",
       "    }\n",
       "\n",
       "    .dataframe tbody tr th {\n",
       "        vertical-align: top;\n",
       "    }\n",
       "\n",
       "    .dataframe thead th {\n",
       "        text-align: right;\n",
       "    }\n",
       "</style>\n",
       "<table border=\"1\" class=\"dataframe\">\n",
       "  <thead>\n",
       "    <tr style=\"text-align: right;\">\n",
       "      <th></th>\n",
       "      <th>Country</th>\n",
       "      <th>Year</th>\n",
       "      <th>Mortality Rate</th>\n",
       "    </tr>\n",
       "  </thead>\n",
       "  <tbody>\n",
       "    <tr>\n",
       "      <th>1074</th>\n",
       "      <td>Mozambique</td>\n",
       "      <td>2003</td>\n",
       "      <td>127.7</td>\n",
       "    </tr>\n",
       "    <tr>\n",
       "      <th>1075</th>\n",
       "      <td>Mozambique</td>\n",
       "      <td>2003</td>\n",
       "      <td>119.5</td>\n",
       "    </tr>\n",
       "    <tr>\n",
       "      <th>1076</th>\n",
       "      <td>Mozambique</td>\n",
       "      <td>2003</td>\n",
       "      <td>95.1</td>\n",
       "    </tr>\n",
       "    <tr>\n",
       "      <th>1077</th>\n",
       "      <td>Mozambique</td>\n",
       "      <td>2003</td>\n",
       "      <td>134.8</td>\n",
       "    </tr>\n",
       "    <tr>\n",
       "      <th>1078</th>\n",
       "      <td>Mozambique</td>\n",
       "      <td>2003</td>\n",
       "      <td>142.9</td>\n",
       "    </tr>\n",
       "    <tr>\n",
       "      <th>1079</th>\n",
       "      <td>Mozambique</td>\n",
       "      <td>2003</td>\n",
       "      <td>147.7</td>\n",
       "    </tr>\n",
       "    <tr>\n",
       "      <th>1080</th>\n",
       "      <td>Mozambique</td>\n",
       "      <td>2003</td>\n",
       "      <td>127.0</td>\n",
       "    </tr>\n",
       "    <tr>\n",
       "      <th>1081</th>\n",
       "      <td>Mozambique</td>\n",
       "      <td>2003</td>\n",
       "      <td>106.3</td>\n",
       "    </tr>\n",
       "    <tr>\n",
       "      <th>1082</th>\n",
       "      <td>Mozambique</td>\n",
       "      <td>2003</td>\n",
       "      <td>71.2</td>\n",
       "    </tr>\n",
       "    <tr>\n",
       "      <th>1083</th>\n",
       "      <td>Mozambique</td>\n",
       "      <td>2003</td>\n",
       "      <td>142.1</td>\n",
       "    </tr>\n",
       "    <tr>\n",
       "      <th>1084</th>\n",
       "      <td>Mozambique</td>\n",
       "      <td>2003</td>\n",
       "      <td>109.6</td>\n",
       "    </tr>\n",
       "    <tr>\n",
       "      <th>1085</th>\n",
       "      <td>Mozambique</td>\n",
       "      <td>2003</td>\n",
       "      <td>63.8</td>\n",
       "    </tr>\n",
       "    <tr>\n",
       "      <th>1086</th>\n",
       "      <td>Mozambique</td>\n",
       "      <td>1997</td>\n",
       "      <td>152.2</td>\n",
       "    </tr>\n",
       "    <tr>\n",
       "      <th>1087</th>\n",
       "      <td>Mozambique</td>\n",
       "      <td>1997</td>\n",
       "      <td>141.9</td>\n",
       "    </tr>\n",
       "    <tr>\n",
       "      <th>1088</th>\n",
       "      <td>Mozambique</td>\n",
       "      <td>1997</td>\n",
       "      <td>186.5</td>\n",
       "    </tr>\n",
       "    <tr>\n",
       "      <th>1089</th>\n",
       "      <td>Mozambique</td>\n",
       "      <td>1997</td>\n",
       "      <td>136.9</td>\n",
       "    </tr>\n",
       "    <tr>\n",
       "      <th>1090</th>\n",
       "      <td>Mozambique</td>\n",
       "      <td>1997</td>\n",
       "      <td>143.6</td>\n",
       "    </tr>\n",
       "    <tr>\n",
       "      <th>1091</th>\n",
       "      <td>Mozambique</td>\n",
       "      <td>1997</td>\n",
       "      <td>134.2</td>\n",
       "    </tr>\n",
       "    <tr>\n",
       "      <th>1092</th>\n",
       "      <td>Mozambique</td>\n",
       "      <td>1997</td>\n",
       "      <td>94.8</td>\n",
       "    </tr>\n",
       "    <tr>\n",
       "      <th>1093</th>\n",
       "      <td>Mozambique</td>\n",
       "      <td>1997</td>\n",
       "      <td>100.5</td>\n",
       "    </tr>\n",
       "    <tr>\n",
       "      <th>1094</th>\n",
       "      <td>Mozambique</td>\n",
       "      <td>1997</td>\n",
       "      <td>159.2</td>\n",
       "    </tr>\n",
       "    <tr>\n",
       "      <th>1095</th>\n",
       "      <td>Mozambique</td>\n",
       "      <td>1997</td>\n",
       "      <td>154.6</td>\n",
       "    </tr>\n",
       "    <tr>\n",
       "      <th>1096</th>\n",
       "      <td>Mozambique</td>\n",
       "      <td>1997</td>\n",
       "      <td>144.1</td>\n",
       "    </tr>\n",
       "    <tr>\n",
       "      <th>1097</th>\n",
       "      <td>Mozambique</td>\n",
       "      <td>1997</td>\n",
       "      <td>73.0</td>\n",
       "    </tr>\n",
       "  </tbody>\n",
       "</table>\n",
       "</div>"
      ],
      "text/plain": [
       "         Country  Year  Mortality Rate\n",
       "1074  Mozambique  2003           127.7\n",
       "1075  Mozambique  2003           119.5\n",
       "1076  Mozambique  2003            95.1\n",
       "1077  Mozambique  2003           134.8\n",
       "1078  Mozambique  2003           142.9\n",
       "1079  Mozambique  2003           147.7\n",
       "1080  Mozambique  2003           127.0\n",
       "1081  Mozambique  2003           106.3\n",
       "1082  Mozambique  2003            71.2\n",
       "1083  Mozambique  2003           142.1\n",
       "1084  Mozambique  2003           109.6\n",
       "1085  Mozambique  2003            63.8\n",
       "1086  Mozambique  1997           152.2\n",
       "1087  Mozambique  1997           141.9\n",
       "1088  Mozambique  1997           186.5\n",
       "1089  Mozambique  1997           136.9\n",
       "1090  Mozambique  1997           143.6\n",
       "1091  Mozambique  1997           134.2\n",
       "1092  Mozambique  1997            94.8\n",
       "1093  Mozambique  1997           100.5\n",
       "1094  Mozambique  1997           159.2\n",
       "1095  Mozambique  1997           154.6\n",
       "1096  Mozambique  1997           144.1\n",
       "1097  Mozambique  1997            73.0"
      ]
     },
     "execution_count": 76,
     "metadata": {},
     "output_type": "execute_result"
    }
   ],
   "source": [
    "infant_df_mozambique = infant_df.loc[infant_df['Country'].isin(['Mozambique'])] \n",
    "infant_df_mozambique"
   ]
  },
  {
   "cell_type": "code",
   "execution_count": 77,
   "id": "a061605a",
   "metadata": {},
   "outputs": [
    {
     "name": "stdout",
     "output_type": "stream",
     "text": [
      "       Country  Year  Mortality Rate\n",
      "0      Albania  2008            22.4\n",
      "1      Albania  2008            15.5\n",
      "2      Albania  2008            29.1\n",
      "3      Albania  2008             9.8\n",
      "4      Albania  2008            23.0\n",
      "...        ...   ...             ...\n",
      "1729  Zimbabwe  1994            51.9\n",
      "1730  Zimbabwe  1994            48.5\n",
      "1731  Zimbabwe  1994            47.1\n",
      "1732  Zimbabwe  1994            64.7\n",
      "1733  Zimbabwe  1994            39.7\n",
      "\n",
      "[1734 rows x 3 columns]\n"
     ]
    }
   ],
   "source": [
    "print(infant_df)"
   ]
  },
  {
   "cell_type": "code",
   "execution_count": null,
   "id": "3fa1b484",
   "metadata": {},
   "outputs": [],
   "source": []
  }
 ],
 "metadata": {
  "kernelspec": {
   "display_name": "Python 3 (ipykernel)",
   "language": "python",
   "name": "python3"
  },
  "language_info": {
   "codemirror_mode": {
    "name": "ipython",
    "version": 3
   },
   "file_extension": ".py",
   "mimetype": "text/x-python",
   "name": "python",
   "nbconvert_exporter": "python",
   "pygments_lexer": "ipython3",
   "version": "3.9.12"
  }
 },
 "nbformat": 4,
 "nbformat_minor": 5
}
